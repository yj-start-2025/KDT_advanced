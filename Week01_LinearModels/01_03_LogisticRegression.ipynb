{
  "nbformat": 4,
  "nbformat_minor": 0,
  "metadata": {
    "colab": {
      "provenance": []
    },
    "kernelspec": {
      "name": "python3",
      "display_name": "Python 3"
    },
    "language_info": {
      "name": "python"
    }
  },
  "cells": [
    {
      "cell_type": "markdown",
      "source": [
        "## 로지스틱 회귀"
      ],
      "metadata": {
        "id": "nlk041woD-Ao"
      }
    },
    {
      "cell_type": "markdown",
      "source": [
        "### 01 패키지 불러오기, 환경세팅"
      ],
      "metadata": {
        "id": "IfWvSr6iJNRU"
      }
    },
    {
      "cell_type": "code",
      "source": [
        "from google.colab import drive\n",
        "drive.mount('/content/drive')"
      ],
      "metadata": {
        "colab": {
          "base_uri": "https://localhost:8080/"
        },
        "id": "kmo8jH2DD_Ie",
        "outputId": "fe8136e5-ec06-4b9c-e4e4-68324819f027"
      },
      "execution_count": null,
      "outputs": [
        {
          "output_type": "stream",
          "name": "stdout",
          "text": [
            "Drive already mounted at /content/drive; to attempt to forcibly remount, call drive.mount(\"/content/drive\", force_remount=True).\n"
          ]
        }
      ]
    },
    {
      "cell_type": "code",
      "source": [
        "import os\n",
        "\n",
        "base_path = '/content/drive/MyDrive/AI_serivce_track/Week_01'"
      ],
      "metadata": {
        "id": "7MTkeWsoKX1p"
      },
      "execution_count": null,
      "outputs": []
    },
    {
      "cell_type": "code",
      "source": [
        "import torch # torch 라이브러리\n",
        "import torch.nn  as  nn # torch 라이브러리 nn(neural net) 모듈을 nn으로 불러온다\n",
        "\n",
        "import numpy as np\n",
        "import pandas as pd\n",
        "\n",
        "from sklearn import linear_model, model_selection\n",
        "from sklearn.datasets import load_wine # sklearn에 내장된 datasets 중에 wine 데이터 불러오기\n",
        "from sklearn.metrics import accuracy_score, precision_score, recall_score, f1_score\n",
        "\n",
        "# torch.cuda 가 잡히면 \"cuda\"(GPU 가속)\n",
        "# GPU 가속이 아닐 경우는 CPU로\n",
        "device = torch.device(\"cuda\" if torch.cuda.is_available() else \"cpu\")\n",
        "\n",
        "# os.path.join 이용해서 경로 지정\n",
        "binomial_classification_data_path = os.path.join(base_path, 'diabetes.csv') # 데이터 불러오기\n",
        "\n",
        "binomial_classification_feature_names = [\n",
        "    \"pregnant\",  # 임신 횟수\n",
        "    \"glucose\",  # 혈당 수치\n",
        "    \"bp\",  # 혈압\n",
        "    \"skin\",  # 피부 두께\n",
        "    \"insulin\",  # 인슐린 수치\n",
        "    \"bmi\",  # 체질량 지수\n",
        "    \"pedigree\",  # 당뇨병 가족력\n",
        "    \"age\",  # 나이\n",
        "    \"label\",  # 당뇨병 여부 (0: 없음, 1: 있음)\n",
        "]\n",
        "\n",
        "# wine 데이터 불러오기\n",
        "multinomial_classification_data_info = load_wine()\n",
        "multinomial_classification_feature_names = (\n",
        "    multinomial_classification_data_info.feature_names\n",
        ")\n",
        "\n",
        "test_data_ratio = 0.3\n",
        "random_state = 0\n",
        "\n",
        "num_binomial_class = 2\n",
        "num_multinomial_class = 3\n",
        "\n",
        "learning_rate = 5e-3 # 학습률 지정\n",
        "epochs = 100 # 학습횟수 지정\n",
        "\n",
        "criterion = nn.CrossEntropyLoss() # criterion 설정 CrossEntropyLoss"
      ],
      "metadata": {
        "id": "Fz5fzJy-JndM"
      },
      "execution_count": null,
      "outputs": []
    },
    {
      "cell_type": "markdown",
      "source": [
        "### 02 함수 정의"
      ],
      "metadata": {
        "id": "5BgelaRxK4Ia"
      }
    },
    {
      "cell_type": "markdown",
      "source": [
        "#### 02-01 Binomial 데이터 불러오는 함수 정의\n",
        "- 수업 시간에 class, 모듈화된 코드를 받았는데, 이런 식으로 코드 짜는게 습관이 안되었음.\n",
        "- BinomialClassificationDataLoader 클래스 정의\n",
        "- MultinomialClassificationDataLoader 클래스 정의"
      ],
      "metadata": {
        "id": "-V6bA5J_K5h7"
      }
    },
    {
      "cell_type": "code",
      "source": [
        "class BinomialClassificationDataLoader:\n",
        "  # self는 원래 들어가고, path, feature_names, test_data_ratio, random_state인자로 받음\n",
        "  def __init__(self, path, feature_names, test_data_ratio, random_state):\n",
        "    # self.으로 class 내의 method? 정의?\n",
        "    self.data_path = path\n",
        "    self.feature_names = feature_names\n",
        "    self.test_data_ratio = test_data_ratio\n",
        "    self.random_state = random_state\n",
        "\n",
        "    # csv_infos 라는 method 정의\n",
        "    self.csv_infos = self.get_csv_infos()\n",
        "    self.csv_data, self.csv_label = self.get_csv_dataset()\n",
        "    self.train_data, self.train_label, self.test_data, self.test_label = self.get_split_data()\n",
        "    self.min_max_normalize_data()\n",
        "\n",
        "  def __call__(self, flag):\n",
        "    if flag == 'train':\n",
        "      return self.train_data, self.train_label\n",
        "    elif flag == 'test':\n",
        "      return self.test_data, self.test_label\n",
        "\n",
        "  def get_csv_infos(self):\n",
        "    df = pd.read_csv(self.data_path, header=None).drop([0], axis=0)\n",
        "    df.columns = self.feature_names\n",
        "\n",
        "    return df\n",
        "\n",
        "  def get_csv_dataset(self):\n",
        "    data, label = self.csv_infos[self.feature_names[:-1]], self.csv_infos[self.feature_names[-1]].astype(int)\n",
        "\n",
        "    return data.to_numpy().astype(np.float32), label.to_numpy().astype(np.float32)\n",
        "\n",
        "  # 데이터 분할하기 sklearn.model_selection에서 train_test_split 사용\n",
        "  def get_split_data(self):\n",
        "    train_data, test_data, train_label, test_label = model_selection.train_test_split(\n",
        "        self.csv_data, self.csv_label, test_size = self.test_data_ratio, random_state = self.random_state\n",
        "    )\n",
        "\n",
        "    return train_data, train_label, test_data, test_label\n",
        "\n",
        "  # min-max normalize\n",
        "  # 최소-최대값 이용한 정규화\n",
        "  def min_max_normalize_data(self):\n",
        "    min_values = np.min(self.train_data, axis=0)\n",
        "    max_values = np.max(self.train_data, axis=0)\n",
        "\n",
        "    self.train_data = (self.train_data - min_values) / (max_values - min_values)\n",
        "    self.test_data = (self.test_data - min_values) / (max_values - min_values)\n"
      ],
      "metadata": {
        "id": "M7IkoSwdKsp0"
      },
      "execution_count": null,
      "outputs": []
    },
    {
      "cell_type": "markdown",
      "source": [
        "#### 02-02 Multinomial 불러오는 class 정의"
      ],
      "metadata": {
        "id": "NctILwouP0b4"
      }
    },
    {
      "cell_type": "code",
      "source": [
        "class MultinomialClassificationDataLoader:\n",
        "  def __init__(self, data_info, feature_names, test_data_ratio, random_state):\n",
        "    self.data_info = data_info\n",
        "    self.feature_names = feature_names\n",
        "    self.test_data_ratio = test_data_ratio\n",
        "    self.random_state = random_state\n",
        "\n",
        "    self.data_infos = self.get_data_infos()\n",
        "    self.data, self.label = self.get_dataset()\n",
        "\n",
        "    self.train_data, self.train_label, self.test_data, self.test_label = self.get_split_data()\n",
        "    self.min_max_normalize_data()\n",
        "\n",
        "  def __call__(self, flag):\n",
        "    if flag == 'train':\n",
        "      return self.train_data, self.train_label\n",
        "    elif flag == 'test':\n",
        "      return self.test_data, self.test_label\n",
        "\n",
        "  def get_data_infos(self):\n",
        "    df = pd.DataFrame(self.data_info.data, columns=self.feature_names)\n",
        "    df['label'] = self.data_info.target\n",
        "\n",
        "    return df\n",
        "\n",
        "  def get_dataset(self):\n",
        "    data, label = self.data_infos.drop(columns=['label']), self.data_infos['label']\n",
        "\n",
        "    return data.to_numpy().astype(np.float32), label.to_numpy().astype(np.float32)\n",
        "\n",
        "  def get_split_data(self):\n",
        "    train_data, test_data, train_label, test_label = model_selection.train_test_split(\n",
        "        self.data, self.label, test_size=self.test_data_ratio, random_state = self.random_state\n",
        "    )\n",
        "    return train_data, train_label, test_data, test_label\n",
        "\n",
        "  def min_max_normalize_data(self):\n",
        "    min_values = np.min(self.train_data, axis=0)\n",
        "    max_values = np.max(self.train_data, axis=0)\n",
        "\n",
        "    self.train_data = (self.train_data - min_values) / (max_values - min_values)\n",
        "    self.test_data = (self.test_data - min_values) / (max_values - min_values)"
      ],
      "metadata": {
        "id": "_jXDkN7WPslR"
      },
      "execution_count": null,
      "outputs": []
    },
    {
      "cell_type": "code",
      "source": [
        "binomial_classification_dataloader = BinomialClassificationDataLoader(binomial_classification_data_path, binomial_classification_feature_names, test_data_ratio, random_state)\n",
        "binomial_classification_train_data, binomial_classification_train_label = binomial_classification_dataloader('train')\n",
        "binomial_classification_test_data, binomial_classification_test_label = binomial_classification_dataloader('test')\n",
        "\n",
        "multinomial_classifcation_dataloader = MultinomialClassificationDataLoader(multinomial_classification_data_info, multinomial_classification_feature_names, test_data_ratio, random_state)\n",
        "multinomial_classifcation_train_data, multinomial_classifcation_train_label = multinomial_classifcation_dataloader('train')\n",
        "multinomial_classifcation_test_data, multinomial_classifcation_test_label = multinomial_classifcation_dataloader('test')\n",
        "\n",
        "print('binomial classification train data: {}/binomial classification train label: {}'.format(binomial_classification_train_data.shape, binomial_classification_train_label.shape))\n",
        "print('binomial classification test data: {}/binomial classification test label: {}'.format(binomial_classification_test_data.shape, binomial_classification_test_label.shape))\n",
        "\n",
        "print('multionomial classification train data: {}/multionomial classification train label: {}'.format(multinomial_classifcation_train_data.shape, multinomial_classifcation_train_label.shape))\n",
        "print('multionomial classification test data: {}/multionomial classification test label: {}'.format(multinomial_classifcation_test_data.shape, multinomial_classifcation_test_label.shape))"
      ],
      "metadata": {
        "colab": {
          "base_uri": "https://localhost:8080/"
        },
        "id": "8DI-5_GeSJq-",
        "outputId": "71306212-55b4-4c00-f252-642beee6e0f2"
      },
      "execution_count": null,
      "outputs": [
        {
          "output_type": "stream",
          "name": "stdout",
          "text": [
            "binomial classification train data: (537, 8)/binomial classification train label: (537,)\n",
            "binomial classification test data: (231, 8)/binomial classification test label: (231,)\n",
            "multionomial classification train data: (124, 13)/multionomial classification train label: (124,)\n",
            "multionomial classification test data: (54, 13)/multionomial classification test label: (54,)\n"
          ]
        }
      ]
    },
    {
      "cell_type": "markdown",
      "source": [
        "#### 02-03 회귀모형 정의\n",
        "- scikit-learn, torch 버전으로 정의"
      ],
      "metadata": {
        "id": "Px-yL5gBWnsm"
      }
    },
    {
      "cell_type": "code",
      "source": [
        "class TorchBinomialLogisticRegression(nn.Module):\n",
        "  def __init__(self, data, num_class):\n",
        "    super(TorchBinomialLogisticRegression, self).__init__()\n",
        "    self.logistic_regressor = nn.Linear(data.shape[1], num_class)\n",
        "\n",
        "  def forward(self, data):\n",
        "    logit = self.logistic_regressor(data)\n",
        "\n",
        "    return logit\n",
        "\n",
        "  def get_params(self):\n",
        "    torch_weight, torch_bias = self.logistic_regressor.weight.detach().cpu().numpy(), self.logistic_regressor.bias.detach().cpu().numpy()\n",
        "\n",
        "    return torch_weight, torch_bias\n",
        "\n",
        "class TorchMultinomialLogisticRegression(nn.Module):\n",
        "  def __init__(self, data, num_class):\n",
        "    super(TorchMultinomialLogisticRegression, self).__init__()\n",
        "    self.logistic_regressor = nn.Linear(data.shape[1], num_class)\n",
        "\n",
        "  def forward(self, data):\n",
        "    logit = self.logistic_regressor(data)\n",
        "\n",
        "    return logit\n",
        "\n",
        "  def get_params(self):\n",
        "    torch_weight, torch_bias = self.logistic_regressor.weight.detach().cpu().numpy(), self.logistic_regressor.bias.detach().cpu().numpy()\n",
        "\n",
        "    return torch_weight, torch_bias\n",
        "\n",
        "class ScikitLearnLogisticRegression:\n",
        "  def __init__(self):\n",
        "    self.logistic_regressor = linear_model.LogisticRegression(penalty=None)\n",
        "\n",
        "  def __call__(self, data):\n",
        "    pred = self.logistic_regressor.predict(data)\n",
        "\n",
        "    return pred\n",
        "\n",
        "  def get_params(self):\n",
        "    sklearn_weight, sklearn_bias = self.logistic_regressor.coef_, self.logistic_regressor.intercept_\n",
        "\n",
        "    return sklearn_weight, sklearn_bias\n",
        "\n",
        "binomial_sklearn_classifier = ScikitLearnLogisticRegression()\n",
        "binomial_torch_classifier = TorchBinomialLogisticRegression(binomial_classification_train_data, num_binomial_class).to(device)\n",
        "binomial_torch_model_optimizer = torch.optim.SGD(binomial_torch_classifier.parameters(), lr =learning_rate)\n",
        "\n",
        "multinomial_sklearn_classifier = ScikitLearnLogisticRegression()\n",
        "multinomial_torch_classifier = TorchMultinomialLogisticRegression(multinomial_classifcation_train_data, num_multinomial_class).to(device)\n",
        "multinomial_torch_model_optimizer = torch.optim.SGD(multinomial_torch_classifier.parameters(), lr =learning_rate)"
      ],
      "metadata": {
        "id": "CDAyY3M8SNAc"
      },
      "execution_count": null,
      "outputs": []
    },
    {
      "cell_type": "markdown",
      "source": [
        "### 03. 모델 학습하기"
      ],
      "metadata": {
        "id": "Dd95Ms6iWuZB"
      }
    },
    {
      "cell_type": "code",
      "source": [
        "def train_sklearn_model(data, label, model):\n",
        "  model.logistic_regressor.fit(data, label)\n",
        "\n",
        "\n",
        "def train_torch_model(data, label, model, criterion, optimizer, epochs, device):\n",
        "  model.train()\n",
        "\n",
        "  data, label = torch.tensor(data, dtype=torch.float32).to(device), torch.tensor(\n",
        "    label, dtype=torch.long\n",
        "  ).to(device)\n",
        "\n",
        "  for epoch in range(epochs):\n",
        "    optimizer.zero_grad()\n",
        "    result = model(data)\n",
        "    loss = criterion(result, label)\n",
        "    loss.backward()\n",
        "    optimizer.step()\n",
        "\n",
        "train_sklearn_model(binomial_classification_train_data, binomial_classification_train_label, binomial_sklearn_classifier)\n",
        "train_torch_model(binomial_classification_train_data, binomial_classification_train_label, binomial_torch_classifier, criterion, binomial_torch_model_optimizer, epochs, device)\n",
        "\n",
        "train_sklearn_model(multinomial_classifcation_train_data, multinomial_classifcation_train_label, multinomial_sklearn_classifier)\n",
        "train_torch_model(multinomial_classifcation_train_data, multinomial_classifcation_train_label, multinomial_torch_classifier, criterion, multinomial_torch_model_optimizer, epochs, device)"
      ],
      "metadata": {
        "id": "ziPrBlAjWtzF"
      },
      "execution_count": null,
      "outputs": []
    },
    {
      "cell_type": "markdown",
      "source": [
        "##### 파라미터 확인"
      ],
      "metadata": {
        "id": "N0_9O6RwW2I8"
      }
    },
    {
      "cell_type": "code",
      "source": [
        "def show_parameters(sklearn_model, torch_model):\n",
        "    sklearn_weight, sklearn_bias = sklearn_model.get_params()\n",
        "    torch_weight, torch_bias = torch_model.get_params()\n",
        "\n",
        "    print('sklearn weight: {}\\ntorch weight: {}'.format(sklearn_weight, torch_weight))\n",
        "    print('sklearn bias: {}\\ntorch bias: {}'.format(sklearn_bias, torch_bias))\n",
        "\n",
        "\n",
        "show_parameters(binomial_sklearn_classifier, binomial_torch_classifier)\n",
        "show_parameters(multinomial_sklearn_classifier, multinomial_torch_classifier)"
      ],
      "metadata": {
        "colab": {
          "base_uri": "https://localhost:8080/"
        },
        "id": "Hq7kiXFcWzcZ",
        "outputId": "7a7e0f48-4886-4f8e-e9e6-b799d4af49b7"
      },
      "execution_count": null,
      "outputs": [
        {
          "output_type": "stream",
          "name": "stdout",
          "text": [
            "sklearn weight: [[ 1.47748911  6.75837874 -1.43522771  0.60710539 -1.08972668  6.03152711\n",
            "   1.79393214  1.4903593 ]]\n",
            "torch weight: [[ 0.24461839 -0.07010375  0.10770005  0.12351587  0.3536715   0.00222284\n",
            "   0.10350859  0.04777805]\n",
            " [-0.09173697  0.04815549 -0.31144506  0.23720945 -0.1351945   0.03698039\n",
            "   0.20778571  0.24696763]]\n",
            "sklearn bias: [-8.00524747]\n",
            "torch bias: [-0.07113787 -0.07699356]\n",
            "sklearn weight: [[  9.56671288   2.53389535  11.92645035 -16.48150821  -2.8548377\n",
            "    4.40664828  17.27892712  -4.31589773   1.4876653    0.73367026\n",
            "   -3.80343657  12.12632472  18.4478884 ]\n",
            " [-13.1070208   -7.53774157 -19.65064088  10.21970658  -3.52440837\n",
            "    1.21039798   5.49132624   3.12051388   7.47287609 -18.50861259\n",
            "   16.81254361   7.4601098  -17.54013994]\n",
            " [  3.54030792   5.00384623   7.72419052   6.26180162   6.37924607\n",
            "   -5.61704626 -22.77025336   1.19538384  -8.96054139  17.77494233\n",
            "  -13.00910704 -19.58643452  -0.90774846]]\n",
            "torch weight: [[ 0.31276584 -0.08693668 -0.15599312  0.23354572  0.03971601 -0.10797735\n",
            "   0.09050094 -0.21301293  0.12341098 -0.24077734  0.25532144  0.24546367\n",
            "  -0.15923439]\n",
            " [ 0.15044817 -0.18759973 -0.26647016  0.19213465 -0.09269138  0.24222885\n",
            "   0.00693475  0.0523709   0.13882546 -0.05831157  0.12330619  0.1940641\n",
            "   0.00451162]\n",
            " [-0.10473853 -0.15179296  0.14545341 -0.18413125 -0.13576634  0.07427475\n",
            "   0.02422724 -0.20460036  0.23409094 -0.02465886  0.05853738  0.18688975\n",
            "   0.00909798]]\n",
            "sklearn bias: [-18.2938652   17.50281061   0.79105458]\n",
            "torch bias: [-0.16265506  0.09693246 -0.20623498]\n"
          ]
        }
      ]
    },
    {
      "cell_type": "markdown",
      "source": [
        "### 04 모델 테스트하기"
      ],
      "metadata": {
        "id": "YVl5Xwp4W6wg"
      }
    },
    {
      "cell_type": "code",
      "source": [
        "def test_model(data, label, model, flag):\n",
        "  result = model(data)\n",
        "\n",
        "  accuracy = accuracy_score(label, result)\n",
        "  print('acc: {}'.format(accuracy))\n",
        "\n",
        "  if flag == 'binomial':\n",
        "    recall = recall_score(label, result)\n",
        "    precision = precision_score(label, result)\n",
        "    f1_measure = f1_score(label, result)\n",
        "\n",
        "    print('recall: {}'.format(recall))\n",
        "    print('precision: {}'.format(precision))\n",
        "    print('f1 score: {}'.format(f1_measure))\n",
        "\n",
        "def test_torch_model(data, label, model, device, flag):\n",
        "  model.eval()\n",
        "\n",
        "  data, label = torch.tensor(data, dtype=torch.float32).to(device), torch.tensor(label, dtype=torch.float32).detach().cpu().numpy()\n",
        "\n",
        "  with torch.no_grad():\n",
        "    result = model(data)\n",
        "    _, result = torch.max(result, 1)\n",
        "\n",
        "    if device.type == \"cuda\":\n",
        "      result = result.cpu().numpy()\n",
        "\n",
        "    accuracy = accuracy_score(label, result)\n",
        "    print('acc: {}'.format(accuracy))\n",
        "\n",
        "    if flag == 'binomial':\n",
        "      recall = recall_score(label, result)\n",
        "      precision = precision_score(label, result)\n",
        "      f1_measure = f1_score(label, result)\n",
        "\n",
        "      print('recall: {}'.format(recall))\n",
        "      print('precision: {}'.format(precision))\n",
        "      print('f1 score: {}'.format(f1_measure))\n",
        "\n",
        "\n",
        "print('Scikit-Learn Binomail Logstic Regression / Torch Binomial Logstic Regression')\n",
        "test_model(binomial_classification_test_data, binomial_classification_test_label, binomial_sklearn_classifier, 'binomial')\n",
        "test_torch_model(binomial_classification_test_data, binomial_classification_test_label, binomial_torch_classifier, device, 'binomial')\n",
        "\n",
        "print('Scikit-Learn Multinomial Logstic Regression / Torch Multinomial Logstic Regression')\n",
        "test_model(multinomial_classifcation_test_data, multinomial_classifcation_test_label, multinomial_sklearn_classifier, 'multinomial')\n",
        "test_torch_model(multinomial_classifcation_test_data, multinomial_classifcation_test_label, multinomial_torch_classifier, device, 'multinomial')"
      ],
      "metadata": {
        "colab": {
          "base_uri": "https://localhost:8080/"
        },
        "id": "xetHJJCJW3pF",
        "outputId": "fc10c777-f8ca-4a75-9146-44be18bf2e62"
      },
      "execution_count": null,
      "outputs": [
        {
          "output_type": "stream",
          "name": "stdout",
          "text": [
            "Scikit-Learn Binomail Logstic Regression / Torch Binomial Logstic Regression\n",
            "acc: 0.7792207792207793\n",
            "recall: 0.527027027027027\n",
            "precision: 0.7090909090909091\n",
            "f1 score: 0.6046511627906976\n",
            "acc: 0.6883116883116883\n",
            "recall: 0.06756756756756757\n",
            "precision: 0.625\n",
            "f1 score: 0.12195121951219512\n",
            "Scikit-Learn Multinomial Logstic Regression / Torch Multinomial Logstic Regression\n",
            "acc: 1.0\n",
            "acc: 0.4074074074074074\n"
          ]
        }
      ]
    },
    {
      "cell_type": "markdown",
      "source": [
        "#### (참고) likelihood-study"
      ],
      "metadata": {
        "id": "a1mynIY8iBBQ"
      }
    },
    {
      "cell_type": "code",
      "source": [
        "import numpy as np\n",
        "import matplotlib.pyplot as plt\n",
        "from scipy.stats import binom\n",
        "\n",
        "# 관측값: 성공 횟수 x, 시행 횟수 n\n",
        "n = 10   # 시행 횟수\n",
        "x = 7    # 성공 횟수 (관측값)\n",
        "\n",
        "# θ(성공 확률)의 범위 정의\n",
        "theta_vals = np.linspace(0, 1, 1000)\n",
        "\n",
        "# Binomial likelihood 계산\n",
        "likelihood_vals = binom.pmf(x, n, theta_vals)\n",
        "\n",
        "# 최대 Likelihood 지점\n",
        "mle_theta = theta_vals[np.argmax(likelihood_vals)]\n",
        "\n",
        "# 시각화\n",
        "plt.figure(figsize=(8, 5))\n",
        "plt.plot(theta_vals, likelihood_vals, label=f'Likelihood P(x={x} | θ)', color='blue')\n",
        "plt.axvline(mle_theta, color='red', linestyle='--', label=f'MLE θ = {mle_theta:.2f}')\n",
        "plt.title(f'Binomial Likelihood (n={n}, x={x})')\n",
        "plt.xlabel('θ (Success Probability)')\n",
        "plt.ylabel('Likelihood')\n",
        "plt.legend()\n",
        "plt.grid(True)\n",
        "plt.show()"
      ],
      "metadata": {
        "id": "G6OmS2bqcltn",
        "outputId": "bc572da0-a3dd-4797-e73d-7c02f3bd87bb",
        "colab": {
          "base_uri": "https://localhost:8080/",
          "height": 487
        }
      },
      "execution_count": null,
      "outputs": [
        {
          "output_type": "display_data",
          "data": {
            "text/plain": [
              "<Figure size 800x500 with 1 Axes>"
            ],
            "image/png": "[encoded data removed]"
          },
          "metadata": {}
        }
      ]
    }
  ]
}