{
  "nbformat": 4,
  "nbformat_minor": 0,
  "metadata": {
    "colab": {
      "provenance": []
    },
    "kernelspec": {
      "name": "python3",
      "display_name": "Python 3"
    },
    "language_info": {
      "name": "python"
    }
  },
  "cells": [
    {
      "cell_type": "markdown",
      "source": [
        "## AI서비스엔지니어4기(1주차 2일)\n",
        "- 스파르타코딩클럽 재직자 대상 교육\n",
        "- EDA와 전처리"
      ],
      "metadata": {
        "id": "fB9Bfgqb5SGh"
      }
    },
    {
      "cell_type": "markdown",
      "source": [
        "### 01 Library Definition & Hyperparameter Definition\n",
        "- 일단 google.colab mount부터 해야함"
      ],
      "metadata": {
        "id": "vX86P5wQ5Xyl"
      }
    },
    {
      "cell_type": "code",
      "source": [
        "from google.colab import drive\n",
        "drive.mount('/content/drive')"
      ],
      "metadata": {
        "colab": {
          "base_uri": "https://localhost:8080/"
        },
        "id": "zCNmrZSZ5XHn",
        "outputId": "e19486ec-6a02-4b5a-f16f-0432ff0b6277"
      },
      "execution_count": null,
      "outputs": [
        {
          "output_type": "stream",
          "name": "stdout",
          "text": [
            "Drive already mounted at /content/drive; to attempt to forcibly remount, call drive.mount(\"/content/drive\", force_remount=True).\n"
          ]
        }
      ]
    },
    {
      "cell_type": "code",
      "source": [
        "import pandas as pd\n",
        "import numpy as np\n",
        "\n",
        "num_sample = 10\n",
        "\n",
        "missing_value_flag = 'remove' # if flag is 'replace', missing values are replaced with the mode, etc.\n",
        "scaling_flag = 'min-max' # if flag is 'standardization', numerical values are scaled by standardization"
      ],
      "metadata": {
        "id": "hhLNNvvZ6Ac3"
      },
      "execution_count": null,
      "outputs": []
    },
    {
      "cell_type": "markdown",
      "source": [
        "### 02 Data Load & Check Data"
      ],
      "metadata": {
        "id": "Dtmy4VWL68Im"
      }
    },
    {
      "cell_type": "code",
      "source": [
        "import os\n",
        "\n",
        "base_path = '/content/drive/MyDrive/AI_serivce_track/Week_01'\n",
        "\n",
        "# 정확한 이름으로 다시 할당\n",
        "data_path = os.path.join(base_path, 'Loan_Default.csv')"
      ],
      "metadata": {
        "id": "DFPeBR8Y8f1K"
      },
      "execution_count": null,
      "outputs": []
    },
    {
      "cell_type": "code",
      "source": [
        "eda_df = pd.read_csv(data_path)\n",
        "eda_df.head(num_sample)"
      ],
      "metadata": {
        "colab": {
          "base_uri": "https://localhost:8080/",
          "height": 603
        },
        "id": "extGqEcz62vZ",
        "outputId": "bd2558e0-9f01-4723-9e34-c7790097509f"
      },
      "execution_count": null,
      "outputs": [
        {
          "output_type": "execute_result",
          "data": {
            "text/plain": [
              "      ID  year loan_limit             Gender approv_in_adv loan_type  \\\n",
              "0  24890  2019         cf  Sex Not Available         nopre     type1   \n",
              "1  24891  2019         cf               Male         nopre     type2   \n",
              "2  24892  2019         cf               Male           pre     type1   \n",
              "3  24893  2019         cf               Male         nopre     type1   \n",
              "4  24894  2019         cf              Joint           pre     type1   \n",
              "5  24895  2019         cf              Joint           pre     type1   \n",
              "6  24896  2019         cf              Joint           pre     type1   \n",
              "7  24897  2019        NaN             Female         nopre     type1   \n",
              "8  24898  2019         cf              Joint         nopre     type1   \n",
              "9  24899  2019         cf  Sex Not Available         nopre     type3   \n",
              "\n",
              "  loan_purpose Credit_Worthiness open_credit business_or_commercial  ...  \\\n",
              "0           p1                l1        nopc                  nob/c  ...   \n",
              "1           p1                l1        nopc                    b/c  ...   \n",
              "2           p1                l1        nopc                  nob/c  ...   \n",
              "3           p4                l1        nopc                  nob/c  ...   \n",
              "4           p1                l1        nopc                  nob/c  ...   \n",
              "5           p1                l1        nopc                  nob/c  ...   \n",
              "6           p3                l1        nopc                  nob/c  ...   \n",
              "7           p4                l1        nopc                  nob/c  ...   \n",
              "8           p3                l1        nopc                  nob/c  ...   \n",
              "9           p3                l1        nopc                  nob/c  ...   \n",
              "\n",
              "   credit_type  Credit_Score  co-applicant_credit_type    age  \\\n",
              "0          EXP           758                       CIB  25-34   \n",
              "1         EQUI           552                       EXP  55-64   \n",
              "2          EXP           834                       CIB  35-44   \n",
              "3          EXP           587                       CIB  45-54   \n",
              "4         CRIF           602                       EXP  25-34   \n",
              "5          EXP           864                       EXP  35-44   \n",
              "6          EXP           860                       EXP  55-64   \n",
              "7          CIB           863                       CIB  55-64   \n",
              "8          CIB           580                       EXP  55-64   \n",
              "9          CIB           788                       EXP  55-64   \n",
              "\n",
              "   submission_of_application        LTV   Region Security_Type  Status dtir1  \n",
              "0                    to_inst  98.728814    south        direct       1  45.0  \n",
              "1                    to_inst        NaN    North        direct       1   NaN  \n",
              "2                    to_inst  80.019685    south        direct       0  46.0  \n",
              "3                   not_inst  69.376900    North        direct       0  42.0  \n",
              "4                   not_inst  91.886544    North        direct       0  39.0  \n",
              "5                   not_inst  70.089286    North        direct       0  40.0  \n",
              "6                    to_inst  79.109589    North        direct       0  44.0  \n",
              "7                    to_inst  86.525974    North        direct       0  42.0  \n",
              "8                    to_inst  78.765690  central        direct       0  44.0  \n",
              "9                    to_inst  63.444767    south        direct       0  30.0  \n",
              "\n",
              "[10 rows x 34 columns]"
            ],
            "text/html": [
              "\n",
              "  <div id=\"df-903e2629-926d-484a-bc4f-973669502413\" class=\"colab-df-container\">\n",
              "    <div>\n",
              "<style scoped>\n",
              "    .dataframe tbody tr th:only-of-type {\n",
              "        vertical-align: middle;\n",
              "    }\n",
              "\n",
              "    .dataframe tbody tr th {\n",
              "        vertical-align: top;\n",
              "    }\n",
              "\n",
              "    .dataframe thead th {\n",
              "        text-align: right;\n",
              "    }\n",
              "</style>\n",
              "<table border=\"1\" class=\"dataframe\">\n",
              "  <thead>\n",
              "    <tr style=\"text-align: right;\">\n",
              "      <th></th>\n",
              "      <th>ID</th>\n",
              "      <th>year</th>\n",
              "      <th>loan_limit</th>\n",
              "      <th>Gender</th>\n",
              "      <th>approv_in_adv</th>\n",
              "      <th>loan_type</th>\n",
              "      <th>loan_purpose</th>\n",
              "      <th>Credit_Worthiness</th>\n",
              "      <th>open_credit</th>\n",
              "      <th>business_or_commercial</th>\n",
              "      <th>...</th>\n",
              "      <th>credit_type</th>\n",
              "      <th>Credit_Score</th>\n",
              "      <th>co-applicant_credit_type</th>\n",
              "      <th>age</th>\n",
              "      <th>submission_of_application</th>\n",
              "      <th>LTV</th>\n",
              "      <th>Region</th>\n",
              "      <th>Security_Type</th>\n",
              "      <th>Status</th>\n",
              "      <th>dtir1</th>\n",
              "    </tr>\n",
              "  </thead>\n",
              "  <tbody>\n",
              "    <tr>\n",
              "      <th>0</th>\n",
              "      <td>24890</td>\n",
              "      <td>2019</td>\n",
              "      <td>cf</td>\n",
              "      <td>Sex Not Available</td>\n",
              "      <td>nopre</td>\n",
              "      <td>type1</td>\n",
              "      <td>p1</td>\n",
              "      <td>l1</td>\n",
              "      <td>nopc</td>\n",
              "      <td>nob/c</td>\n",
              "      <td>...</td>\n",
              "      <td>EXP</td>\n",
              "      <td>758</td>\n",
              "      <td>CIB</td>\n",
              "      <td>25-34</td>\n",
              "      <td>to_inst</td>\n",
              "      <td>98.728814</td>\n",
              "      <td>south</td>\n",
              "      <td>direct</td>\n",
              "      <td>1</td>\n",
              "      <td>45.0</td>\n",
              "    </tr>\n",
              "    <tr>\n",
              "      <th>1</th>\n",
              "      <td>24891</td>\n",
              "      <td>2019</td>\n",
              "      <td>cf</td>\n",
              "      <td>Male</td>\n",
              "      <td>nopre</td>\n",
              "      <td>type2</td>\n",
              "      <td>p1</td>\n",
              "      <td>l1</td>\n",
              "      <td>nopc</td>\n",
              "      <td>b/c</td>\n",
              "      <td>...</td>\n",
              "      <td>EQUI</td>\n",
              "      <td>552</td>\n",
              "      <td>EXP</td>\n",
              "      <td>55-64</td>\n",
              "      <td>to_inst</td>\n",
              "      <td>NaN</td>\n",
              "      <td>North</td>\n",
              "      <td>direct</td>\n",
              "      <td>1</td>\n",
              "      <td>NaN</td>\n",
              "    </tr>\n",
              "    <tr>\n",
              "      <th>2</th>\n",
              "      <td>24892</td>\n",
              "      <td>2019</td>\n",
              "      <td>cf</td>\n",
              "      <td>Male</td>\n",
              "      <td>pre</td>\n",
              "      <td>type1</td>\n",
              "      <td>p1</td>\n",
              "      <td>l1</td>\n",
              "      <td>nopc</td>\n",
              "      <td>nob/c</td>\n",
              "      <td>...</td>\n",
              "      <td>EXP</td>\n",
              "      <td>834</td>\n",
              "      <td>CIB</td>\n",
              "      <td>35-44</td>\n",
              "      <td>to_inst</td>\n",
              "      <td>80.019685</td>\n",
              "      <td>south</td>\n",
              "      <td>direct</td>\n",
              "      <td>0</td>\n",
              "      <td>46.0</td>\n",
              "    </tr>\n",
              "    <tr>\n",
              "      <th>3</th>\n",
              "      <td>24893</td>\n",
              "      <td>2019</td>\n",
              "      <td>cf</td>\n",
              "      <td>Male</td>\n",
              "      <td>nopre</td>\n",
              "      <td>type1</td>\n",
              "      <td>p4</td>\n",
              "      <td>l1</td>\n",
              "      <td>nopc</td>\n",
              "      <td>nob/c</td>\n",
              "      <td>...</td>\n",
              "      <td>EXP</td>\n",
              "      <td>587</td>\n",
              "      <td>CIB</td>\n",
              "      <td>45-54</td>\n",
              "      <td>not_inst</td>\n",
              "      <td>69.376900</td>\n",
              "      <td>North</td>\n",
              "      <td>direct</td>\n",
              "      <td>0</td>\n",
              "      <td>42.0</td>\n",
              "    </tr>\n",
              "    <tr>\n",
              "      <th>4</th>\n",
              "      <td>24894</td>\n",
              "      <td>2019</td>\n",
              "      <td>cf</td>\n",
              "      <td>Joint</td>\n",
              "      <td>pre</td>\n",
              "      <td>type1</td>\n",
              "      <td>p1</td>\n",
              "      <td>l1</td>\n",
              "      <td>nopc</td>\n",
              "      <td>nob/c</td>\n",
              "      <td>...</td>\n",
              "      <td>CRIF</td>\n",
              "      <td>602</td>\n",
              "      <td>EXP</td>\n",
              "      <td>25-34</td>\n",
              "      <td>not_inst</td>\n",
              "      <td>91.886544</td>\n",
              "      <td>North</td>\n",
              "      <td>direct</td>\n",
              "      <td>0</td>\n",
              "      <td>39.0</td>\n",
              "    </tr>\n",
              "    <tr>\n",
              "      <th>5</th>\n",
              "      <td>24895</td>\n",
              "      <td>2019</td>\n",
              "      <td>cf</td>\n",
              "      <td>Joint</td>\n",
              "      <td>pre</td>\n",
              "      <td>type1</td>\n",
              "      <td>p1</td>\n",
              "      <td>l1</td>\n",
              "      <td>nopc</td>\n",
              "      <td>nob/c</td>\n",
              "      <td>...</td>\n",
              "      <td>EXP</td>\n",
              "      <td>864</td>\n",
              "      <td>EXP</td>\n",
              "      <td>35-44</td>\n",
              "      <td>not_inst</td>\n",
              "      <td>70.089286</td>\n",
              "      <td>North</td>\n",
              "      <td>direct</td>\n",
              "      <td>0</td>\n",
              "      <td>40.0</td>\n",
              "    </tr>\n",
              "    <tr>\n",
              "      <th>6</th>\n",
              "      <td>24896</td>\n",
              "      <td>2019</td>\n",
              "      <td>cf</td>\n",
              "      <td>Joint</td>\n",
              "      <td>pre</td>\n",
              "      <td>type1</td>\n",
              "      <td>p3</td>\n",
              "      <td>l1</td>\n",
              "      <td>nopc</td>\n",
              "      <td>nob/c</td>\n",
              "      <td>...</td>\n",
              "      <td>EXP</td>\n",
              "      <td>860</td>\n",
              "      <td>EXP</td>\n",
              "      <td>55-64</td>\n",
              "      <td>to_inst</td>\n",
              "      <td>79.109589</td>\n",
              "      <td>North</td>\n",
              "      <td>direct</td>\n",
              "      <td>0</td>\n",
              "      <td>44.0</td>\n",
              "    </tr>\n",
              "    <tr>\n",
              "      <th>7</th>\n",
              "      <td>24897</td>\n",
              "      <td>2019</td>\n",
              "      <td>NaN</td>\n",
              "      <td>Female</td>\n",
              "      <td>nopre</td>\n",
              "      <td>type1</td>\n",
              "      <td>p4</td>\n",
              "      <td>l1</td>\n",
              "      <td>nopc</td>\n",
              "      <td>nob/c</td>\n",
              "      <td>...</td>\n",
              "      <td>CIB</td>\n",
              "      <td>863</td>\n",
              "      <td>CIB</td>\n",
              "      <td>55-64</td>\n",
              "      <td>to_inst</td>\n",
              "      <td>86.525974</td>\n",
              "      <td>North</td>\n",
              "      <td>direct</td>\n",
              "      <td>0</td>\n",
              "      <td>42.0</td>\n",
              "    </tr>\n",
              "    <tr>\n",
              "      <th>8</th>\n",
              "      <td>24898</td>\n",
              "      <td>2019</td>\n",
              "      <td>cf</td>\n",
              "      <td>Joint</td>\n",
              "      <td>nopre</td>\n",
              "      <td>type1</td>\n",
              "      <td>p3</td>\n",
              "      <td>l1</td>\n",
              "      <td>nopc</td>\n",
              "      <td>nob/c</td>\n",
              "      <td>...</td>\n",
              "      <td>CIB</td>\n",
              "      <td>580</td>\n",
              "      <td>EXP</td>\n",
              "      <td>55-64</td>\n",
              "      <td>to_inst</td>\n",
              "      <td>78.765690</td>\n",
              "      <td>central</td>\n",
              "      <td>direct</td>\n",
              "      <td>0</td>\n",
              "      <td>44.0</td>\n",
              "    </tr>\n",
              "    <tr>\n",
              "      <th>9</th>\n",
              "      <td>24899</td>\n",
              "      <td>2019</td>\n",
              "      <td>cf</td>\n",
              "      <td>Sex Not Available</td>\n",
              "      <td>nopre</td>\n",
              "      <td>type3</td>\n",
              "      <td>p3</td>\n",
              "      <td>l1</td>\n",
              "      <td>nopc</td>\n",
              "      <td>nob/c</td>\n",
              "      <td>...</td>\n",
              "      <td>CIB</td>\n",
              "      <td>788</td>\n",
              "      <td>EXP</td>\n",
              "      <td>55-64</td>\n",
              "      <td>to_inst</td>\n",
              "      <td>63.444767</td>\n",
              "      <td>south</td>\n",
              "      <td>direct</td>\n",
              "      <td>0</td>\n",
              "      <td>30.0</td>\n",
              "    </tr>\n",
              "  </tbody>\n",
              "</table>\n",
              "<p>10 rows × 34 columns</p>\n",
              "</div>\n",
              "    <div class=\"colab-df-buttons\">\n",
              "\n",
              "  <div class=\"colab-df-container\">\n",
              "    <button class=\"colab-df-convert\" onclick=\"convertToInteractive('df-903e2629-926d-484a-bc4f-973669502413')\"\n",
              "            title=\"Convert this dataframe to an interactive table.\"\n",
              "            style=\"display:none;\">\n",
              "\n",
              "  <svg xmlns=\"http://www.w3.org/2000/svg\" height=\"24px\" viewBox=\"0 -960 960 960\">\n",
              "    <path d=\"M120-120v-720h720v720H120Zm60-500h600v-160H180v160Zm220 220h160v-160H400v160Zm0 220h160v-160H400v160ZM180-400h160v-160H180v160Zm440 0h160v-160H620v160ZM180-180h160v-160H180v160Zm440 0h160v-160H620v160Z\"/>\n",
              "  </svg>\n",
              "    </button>\n",
              "\n",
              "  <style>\n",
              "    .colab-df-container {\n",
              "      display:flex;\n",
              "      gap: 12px;\n",
              "    }\n",
              "\n",
              "    .colab-df-convert {\n",
              "      background-color: #E8F0FE;\n",
              "      border: none;\n",
              "      border-radius: 50%;\n",
              "      cursor: pointer;\n",
              "      display: none;\n",
              "      fill: #1967D2;\n",
              "      height: 32px;\n",
              "      padding: 0 0 0 0;\n",
              "      width: 32px;\n",
              "    }\n",
              "\n",
              "    .colab-df-convert:hover {\n",
              "      background-color: #E2EBFA;\n",
              "      box-shadow: 0px 1px 2px rgba(60, 64, 67, 0.3), 0px 1px 3px 1px rgba(60, 64, 67, 0.15);\n",
              "      fill: #174EA6;\n",
              "    }\n",
              "\n",
              "    .colab-df-buttons div {\n",
              "      margin-bottom: 4px;\n",
              "    }\n",
              "\n",
              "    [theme=dark] .colab-df-convert {\n",
              "      background-color: #3B4455;\n",
              "      fill: #D2E3FC;\n",
              "    }\n",
              "\n",
              "    [theme=dark] .colab-df-convert:hover {\n",
              "      background-color: #434B5C;\n",
              "      box-shadow: 0px 1px 3px 1px rgba(0, 0, 0, 0.15);\n",
              "      filter: drop-shadow(0px 1px 2px rgba(0, 0, 0, 0.3));\n",
              "      fill: #FFFFFF;\n",
              "    }\n",
              "  </style>\n",
              "\n",
              "    <script>\n",
              "      const buttonEl =\n",
              "        document.querySelector('#df-903e2629-926d-484a-bc4f-973669502413 button.colab-df-convert');\n",
              "      buttonEl.style.display =\n",
              "        google.colab.kernel.accessAllowed ? 'block' : 'none';\n",
              "\n",
              "      async function convertToInteractive(key) {\n",
              "        const element = document.querySelector('#df-903e2629-926d-484a-bc4f-973669502413');\n",
              "        const dataTable =\n",
              "          await google.colab.kernel.invokeFunction('convertToInteractive',\n",
              "                                                    [key], {});\n",
              "        if (!dataTable) return;\n",
              "\n",
              "        const docLinkHtml = 'Like what you see? Visit the ' +\n",
              "          '<a target=\"_blank\" href=https://colab.research.google.com/notebooks/data_table.ipynb>data table notebook</a>'\n",
              "          + ' to learn more about interactive tables.';\n",
              "        element.innerHTML = '';\n",
              "        dataTable['output_type'] = 'display_data';\n",
              "        await google.colab.output.renderOutput(dataTable, element);\n",
              "        const docLink = document.createElement('div');\n",
              "        docLink.innerHTML = docLinkHtml;\n",
              "        element.appendChild(docLink);\n",
              "      }\n",
              "    </script>\n",
              "  </div>\n",
              "\n",
              "\n",
              "    <div id=\"df-c47b2be3-06ea-4ef0-aeb0-84be48c257e7\">\n",
              "      <button class=\"colab-df-quickchart\" onclick=\"quickchart('df-c47b2be3-06ea-4ef0-aeb0-84be48c257e7')\"\n",
              "                title=\"Suggest charts\"\n",
              "                style=\"display:none;\">\n",
              "\n",
              "<svg xmlns=\"http://www.w3.org/2000/svg\" height=\"24px\"viewBox=\"0 0 24 24\"\n",
              "     width=\"24px\">\n",
              "    <g>\n",
              "        <path d=\"M19 3H5c-1.1 0-2 .9-2 2v14c0 1.1.9 2 2 2h14c1.1 0 2-.9 2-2V5c0-1.1-.9-2-2-2zM9 17H7v-7h2v7zm4 0h-2V7h2v10zm4 0h-2v-4h2v4z\"/>\n",
              "    </g>\n",
              "</svg>\n",
              "      </button>\n",
              "\n",
              "<style>\n",
              "  .colab-df-quickchart {\n",
              "      --bg-color: #E8F0FE;\n",
              "      --fill-color: #1967D2;\n",
              "      --hover-bg-color: #E2EBFA;\n",
              "      --hover-fill-color: #174EA6;\n",
              "      --disabled-fill-color: #AAA;\n",
              "      --disabled-bg-color: #DDD;\n",
              "  }\n",
              "\n",
              "  [theme=dark] .colab-df-quickchart {\n",
              "      --bg-color: #3B4455;\n",
              "      --fill-color: #D2E3FC;\n",
              "      --hover-bg-color: #434B5C;\n",
              "      --hover-fill-color: #FFFFFF;\n",
              "      --disabled-bg-color: #3B4455;\n",
              "      --disabled-fill-color: #666;\n",
              "  }\n",
              "\n",
              "  .colab-df-quickchart {\n",
              "    background-color: var(--bg-color);\n",
              "    border: none;\n",
              "    border-radius: 50%;\n",
              "    cursor: pointer;\n",
              "    display: none;\n",
              "    fill: var(--fill-color);\n",
              "    height: 32px;\n",
              "    padding: 0;\n",
              "    width: 32px;\n",
              "  }\n",
              "\n",
              "  .colab-df-quickchart:hover {\n",
              "    background-color: var(--hover-bg-color);\n",
              "    box-shadow: 0 1px 2px rgba(60, 64, 67, 0.3), 0 1px 3px 1px rgba(60, 64, 67, 0.15);\n",
              "    fill: var(--button-hover-fill-color);\n",
              "  }\n",
              "\n",
              "  .colab-df-quickchart-complete:disabled,\n",
              "  .colab-df-quickchart-complete:disabled:hover {\n",
              "    background-color: var(--disabled-bg-color);\n",
              "    fill: var(--disabled-fill-color);\n",
              "    box-shadow: none;\n",
              "  }\n",
              "\n",
              "  .colab-df-spinner {\n",
              "    border: 2px solid var(--fill-color);\n",
              "    border-color: transparent;\n",
              "    border-bottom-color: var(--fill-color);\n",
              "    animation:\n",
              "      spin 1s steps(1) infinite;\n",
              "  }\n",
              "\n",
              "  @keyframes spin {\n",
              "    0% {\n",
              "      border-color: transparent;\n",
              "      border-bottom-color: var(--fill-color);\n",
              "      border-left-color: var(--fill-color);\n",
              "    }\n",
              "    20% {\n",
              "      border-color: transparent;\n",
              "      border-left-color: var(--fill-color);\n",
              "      border-top-color: var(--fill-color);\n",
              "    }\n",
              "    30% {\n",
              "      border-color: transparent;\n",
              "      border-left-color: var(--fill-color);\n",
              "      border-top-color: var(--fill-color);\n",
              "      border-right-color: var(--fill-color);\n",
              "    }\n",
              "    40% {\n",
              "      border-color: transparent;\n",
              "      border-right-color: var(--fill-color);\n",
              "      border-top-color: var(--fill-color);\n",
              "    }\n",
              "    60% {\n",
              "      border-color: transparent;\n",
              "      border-right-color: var(--fill-color);\n",
              "    }\n",
              "    80% {\n",
              "      border-color: transparent;\n",
              "      border-right-color: var(--fill-color);\n",
              "      border-bottom-color: var(--fill-color);\n",
              "    }\n",
              "    90% {\n",
              "      border-color: transparent;\n",
              "      border-bottom-color: var(--fill-color);\n",
              "    }\n",
              "  }\n",
              "</style>\n",
              "\n",
              "      <script>\n",
              "        async function quickchart(key) {\n",
              "          const quickchartButtonEl =\n",
              "            document.querySelector('#' + key + ' button');\n",
              "          quickchartButtonEl.disabled = true;  // To prevent multiple clicks.\n",
              "          quickchartButtonEl.classList.add('colab-df-spinner');\n",
              "          try {\n",
              "            const charts = await google.colab.kernel.invokeFunction(\n",
              "                'suggestCharts', [key], {});\n",
              "          } catch (error) {\n",
              "            console.error('Error during call to suggestCharts:', error);\n",
              "          }\n",
              "          quickchartButtonEl.classList.remove('colab-df-spinner');\n",
              "          quickchartButtonEl.classList.add('colab-df-quickchart-complete');\n",
              "        }\n",
              "        (() => {\n",
              "          let quickchartButtonEl =\n",
              "            document.querySelector('#df-c47b2be3-06ea-4ef0-aeb0-84be48c257e7 button');\n",
              "          quickchartButtonEl.style.display =\n",
              "            google.colab.kernel.accessAllowed ? 'block' : 'none';\n",
              "        })();\n",
              "      </script>\n",
              "    </div>\n",
              "\n",
              "    </div>\n",
              "  </div>\n"
            ],
            "application/vnd.google.colaboratory.intrinsic+json": {
              "type": "dataframe",
              "variable_name": "eda_df"
            }
          },
          "metadata": {},
          "execution_count": 18
        }
      ]
    },
    {
      "cell_type": "code",
      "source": [
        "print('# of data: {}'.format(eda_df.shape[0]))\n",
        "print('# of features: {}\\n'.format(eda_df.shape[1]))"
      ],
      "metadata": {
        "colab": {
          "base_uri": "https://localhost:8080/"
        },
        "id": "JofhkoTo8RbA",
        "outputId": "29b3a67c-ef75-4e58-f015-7a4614dc9814"
      },
      "execution_count": null,
      "outputs": [
        {
          "output_type": "stream",
          "name": "stdout",
          "text": [
            "# of data: 148670\n",
            "# of features: 34\n",
            "\n"
          ]
        }
      ]
    },
    {
      "cell_type": "code",
      "source": [
        "print('feature map/dtype')\n",
        "numerical_count = 0\n",
        "categorical_count = 0\n",
        "\n",
        "for feature_name, feature_type in zip(eda_df.columns, eda_df.dtypes):\n",
        "  if np.issubdtype(feature_type, np.number):\n",
        "    numerical_count += 1\n",
        "  else:\n",
        "    categorical_count += 1\n",
        "  print('{}: {}'.format(feature_name, feature_type))\n",
        "\n",
        "print('\\n # of numerical item: {}/# of categorical item: {}'.format(numerical_count, categorical_count))"
      ],
      "metadata": {
        "colab": {
          "base_uri": "https://localhost:8080/"
        },
        "id": "v1im2Yc_8tm3",
        "outputId": "92a9b46b-afc7-4435-9a81-35f006950436"
      },
      "execution_count": null,
      "outputs": [
        {
          "output_type": "stream",
          "name": "stdout",
          "text": [
            "feature map/dtype\n",
            "ID: int64\n",
            "year: int64\n",
            "loan_limit: object\n",
            "Gender: object\n",
            "approv_in_adv: object\n",
            "loan_type: object\n",
            "loan_purpose: object\n",
            "Credit_Worthiness: object\n",
            "open_credit: object\n",
            "business_or_commercial: object\n",
            "loan_amount: int64\n",
            "rate_of_interest: float64\n",
            "Interest_rate_spread: float64\n",
            "Upfront_charges: float64\n",
            "term: float64\n",
            "Neg_ammortization: object\n",
            "interest_only: object\n",
            "lump_sum_payment: object\n",
            "property_value: float64\n",
            "construction_type: object\n",
            "occupancy_type: object\n",
            "Secured_by: object\n",
            "total_units: object\n",
            "income: float64\n",
            "credit_type: object\n",
            "Credit_Score: int64\n",
            "co-applicant_credit_type: object\n",
            "age: object\n",
            "submission_of_application: object\n",
            "LTV: float64\n",
            "Region: object\n",
            "Security_Type: object\n",
            "Status: int64\n",
            "dtir1: float64\n",
            "\n",
            " # of numerical item: 13/# of categorical item: 21\n"
          ]
        }
      ]
    },
    {
      "cell_type": "code",
      "source": [
        "print('\\nstatistcal infos')\n",
        "eda_df.describe()\n",
        "\n",
        "label_df = eda_df['Status']\n",
        "label_dict = label_df.value_counts()\n",
        "\n",
        "print('label shape: {}'.format(label_df.shape))\n",
        "\n",
        "print('\\nnum of negative label: {}/num of positive label: {}'.format(label_dict[0], label_dict[1]))\n",
        "print('% of negative label: {}/% of positive label: {}'.format(label_dict[0] / label_df.shape[0] * 100, label_dict[1] / label_df.shape[0] * 100))"
      ],
      "metadata": {
        "colab": {
          "base_uri": "https://localhost:8080/"
        },
        "id": "w0meF47w8zN2",
        "outputId": "0a73fbd4-9652-4ea0-9843-15f162ded17b"
      },
      "execution_count": null,
      "outputs": [
        {
          "output_type": "stream",
          "name": "stdout",
          "text": [
            "\n",
            "statistcal infos\n",
            "label shape: (148670,)\n",
            "\n",
            "num of negative label: 112031/num of positive label: 36639\n",
            "% of negative label: 75.3554853030201/% of positive label: 24.64451469697989\n"
          ]
        }
      ]
    },
    {
      "cell_type": "markdown",
      "source": [
        "### 03 Data cleaning"
      ],
      "metadata": {
        "id": "22ZucmAZ-OZy"
      }
    },
    {
      "cell_type": "markdown",
      "source": [
        "#### 03-01 중복 제거\n",
        "- 항상 중복이 있는지 확인"
      ],
      "metadata": {
        "id": "PDP-INsc_OBo"
      }
    },
    {
      "cell_type": "code",
      "source": [
        "print('Start Removing Duplicates') # 중복 제거\n",
        "duplicates = eda_df.duplicated() # .duplicated()함수 -> 중복 구하기\n",
        "eda_df = eda_df[~duplicates] # 중복제거 실행\n",
        "print('# of data after removing duplicates:{}\\n'.format(eda_df.shape[0]))\n"
      ],
      "metadata": {
        "colab": {
          "base_uri": "https://localhost:8080/"
        },
        "id": "ofW1mmx59a_T",
        "outputId": "229a055c-2dfe-4de8-f7c0-fe07f5285270"
      },
      "execution_count": null,
      "outputs": [
        {
          "output_type": "stream",
          "name": "stdout",
          "text": [
            "Start Removing Duplicates\n",
            "# of data after removing duplicates:148670\n",
            "\n"
          ]
        }
      ]
    },
    {
      "cell_type": "markdown",
      "source": [
        "#### 03-02 결측치 체크"
      ],
      "metadata": {
        "id": "EZzMvuFx_jmf"
      }
    },
    {
      "cell_type": "code",
      "source": [
        "print('Start Handling Missing Values')\n",
        "print('features / # of missing values')\n",
        "print(eda_df.isnull().sum()) # .isnull().sum() 이건 결측치의 수 체크!"
      ],
      "metadata": {
        "colab": {
          "base_uri": "https://localhost:8080/"
        },
        "id": "Cx1ieENM_A8J",
        "outputId": "cc0886df-eb0e-4d8f-e206-ba52fd8166e3"
      },
      "execution_count": null,
      "outputs": [
        {
          "output_type": "stream",
          "name": "stdout",
          "text": [
            "Start Handling Missing Values\n",
            "features / # of missing values\n",
            "ID                               0\n",
            "year                             0\n",
            "loan_limit                    3344\n",
            "Gender                           0\n",
            "approv_in_adv                  908\n",
            "loan_type                        0\n",
            "loan_purpose                   134\n",
            "Credit_Worthiness                0\n",
            "open_credit                      0\n",
            "business_or_commercial           0\n",
            "loan_amount                      0\n",
            "rate_of_interest             36439\n",
            "Interest_rate_spread         36639\n",
            "Upfront_charges              39642\n",
            "term                            41\n",
            "Neg_ammortization              121\n",
            "interest_only                    0\n",
            "lump_sum_payment                 0\n",
            "property_value               15098\n",
            "construction_type                0\n",
            "occupancy_type                   0\n",
            "Secured_by                       0\n",
            "total_units                      0\n",
            "income                        9150\n",
            "credit_type                      0\n",
            "Credit_Score                     0\n",
            "co-applicant_credit_type         0\n",
            "age                            200\n",
            "submission_of_application      200\n",
            "LTV                          15098\n",
            "Region                           0\n",
            "Security_Type                    0\n",
            "Status                           0\n",
            "dtir1                        24121\n",
            "dtype: int64\n"
          ]
        }
      ]
    },
    {
      "cell_type": "code",
      "source": [
        "if missing_value_flag == 'remove': # 앞에서 정의한 missing_value_flag가 'remove'인 경우\n",
        "  print('Remove missing values\\n')\n",
        "  eda_df = eda_df.dropna()\n",
        "elif missing_value_flag == 'replace': # 앞에서 정의한 missing_value_flag가 'replace'인 경우\n",
        "  print('Replace missing values with mode\\n')\n",
        "  for feature_name in eda_df.columns :\n",
        "    if eda_df[feature_name].isnull().sum() > 0:  # missing_value 개수가 1개 이상이면\n",
        "      eda_df[feature_name].fillna(eda_df[feature_name].mode().iloc[0], inplace=True) # .mode()로 채우기(최빈값)"
      ],
      "metadata": {
        "colab": {
          "base_uri": "https://localhost:8080/"
        },
        "id": "JCN5y_fN_Lxp",
        "outputId": "1457656f-c30d-4e68-abca-c893671da0e9"
      },
      "execution_count": null,
      "outputs": [
        {
          "output_type": "stream",
          "name": "stdout",
          "text": [
            "Remove missing values\n",
            "\n"
          ]
        }
      ]
    },
    {
      "cell_type": "code",
      "source": [
        "print('Start Handling Outliers using IQR')\n",
        "outlier_dict = {}\n",
        "\n",
        "for feature_name in eda_df.columns:\n",
        "  if np.issubdtype(eda_df[feature_name].dtype, np.number):\n",
        "    Q1 = eda_df[feature_name].quantile(0.25) # Q1 정의 (하위 25%)\n",
        "    Q3 = eda_df[feature_name].quantile(0.75) # Q3 정의 (상위 25%)\n",
        "    IQR = Q3 - Q1 # IQR = Inter Quantile Range (Q3에서 Q1을 뺀 것!)\n",
        "    lower_bound = Q1 - 1.5 * IQR # 아웃라이어 하한 Q1 - 1.5*IQR\n",
        "    upper_bound = Q3 + 1.5 * IQR # 아웃라이어 상한 Q3 + 1.5*IQR\n",
        "\n",
        "    num_outlier = ((eda_df[feature_name] < lower_bound) | (eda_df[feature_name] > upper_bound)).sum() # 아웃라이어 개수 저장\n",
        "    outlier_dict[feature_name] = num_outlier\n",
        "\n",
        "    eda_df = eda_df[(eda_df[feature_name] >= lower_bound) & (eda_df[feature_name] <= upper_bound)]\n",
        "\n",
        "\n",
        "print('Total # of outliers: {}'.format(sum(outlier_dict.values())))\n",
        "print('Number of outliers for each feature')\n",
        "for feature_name, num_outlier in outlier_dict.items():\n",
        "  print('{}: {}'.format(feature_name, num_outlier))"
      ],
      "metadata": {
        "colab": {
          "base_uri": "https://localhost:8080/"
        },
        "id": "oXimjeoPAoGq",
        "outputId": "e7182be8-a259-457a-8902-4083dde9bb2a"
      },
      "execution_count": null,
      "outputs": [
        {
          "output_type": "stream",
          "name": "stdout",
          "text": [
            "Start Handling Outliers using IQR\n",
            "Total # of outliers: 29744\n",
            "Number of outliers for each feature\n",
            "ID: 0\n",
            "year: 0\n",
            "loan_amount: 949\n",
            "rate_of_interest: 353\n",
            "Interest_rate_spread: 494\n",
            "Upfront_charges: 2536\n",
            "term: 17764\n",
            "property_value: 2405\n",
            "income: 2865\n",
            "Credit_Score: 0\n",
            "LTV: 1122\n",
            "Status: 0\n",
            "dtir1: 1256\n"
          ]
        }
      ]
    },
    {
      "cell_type": "markdown",
      "source": [
        "##### 위 코드를 좀 바꿔본다면?\n",
        "- 위의 코드가 직관적이고 편리하게 짜여졌지만 원본을 남겨두는게 안전할 수도 있음"
      ],
      "metadata": {
        "id": "SjpcycaQB0Xe"
      }
    },
    {
      "cell_type": "code",
      "source": [
        "# eda_df_cleaned = eda_df.copy()\n",
        "# outlier_dict = {}\n",
        "\n",
        "# for col in eda_df_cleaned.select_dtypes(include=np.number).columns:\n",
        "#     Q1 = eda_df_cleaned[col].quantile(0.25)\n",
        "#     Q3 = eda_df_cleaned[col].quantile(0.75)\n",
        "#     IQR = Q3 - Q1\n",
        "#     lower = Q1 - 1.5 * IQR\n",
        "#     upper = Q3 + 1.5 * IQR\n",
        "\n",
        "#     outliers = (eda_df_cleaned[col] < lower) | (eda_df_cleaned[col] > upper)\n",
        "#     outlier_dict[col] = outliers.sum()\n",
        "\n",
        "#     eda_df_cleaned = eda_df_cleaned[~outliers]\n",
        "\n",
        "# print(f\"총 이상치 수: {sum(outlier_dict.values())}\")"
      ],
      "metadata": {
        "id": "fN5ikLOOBQJI"
      },
      "execution_count": null,
      "outputs": []
    },
    {
      "cell_type": "markdown",
      "source": [
        "### 04. Data Preprocessing\n",
        "- 데이터 전처리 하기\n",
        "  - 여기서는 min-max scaling, standard scaling을 다루고 있음"
      ],
      "metadata": {
        "id": "p1KUzZDDBq8l"
      }
    },
    {
      "cell_type": "code",
      "source": [
        "numerical_features = eda_df.select_dtypes(include = [np.number])\n",
        "numerical_array = numerical_features.values\n",
        "print('numerical features shape: {}'.format(numerical_array.shape))"
      ],
      "metadata": {
        "colab": {
          "base_uri": "https://localhost:8080/"
        },
        "id": "K85h0zFYBlgT",
        "outputId": "1a98ac68-b530-4298-befe-c97212df7e5d"
      },
      "execution_count": null,
      "outputs": [
        {
          "output_type": "stream",
          "name": "stdout",
          "text": [
            "numerical features shape: (68443, 13)\n"
          ]
        }
      ]
    },
    {
      "cell_type": "code",
      "source": [
        "eda_df.shape"
      ],
      "metadata": {
        "colab": {
          "base_uri": "https://localhost:8080/"
        },
        "id": "iuN2-6edDeAu",
        "outputId": "68bbc24d-7665-4135-f668-06572507c36d"
      },
      "execution_count": null,
      "outputs": [
        {
          "output_type": "execute_result",
          "data": {
            "text/plain": [
              "(68443, 34)"
            ]
          },
          "metadata": {},
          "execution_count": 30
        }
      ]
    },
    {
      "cell_type": "code",
      "source": [
        "\n",
        "if scaling_flag == 'standardization':\n",
        "  print('Standardization of numeircal features\\n')\n",
        "  feature_mean = np.mean(numerical_array, axis=0)\n",
        "  feature_std = np.std(numerical_array, axis=0)\n",
        "\n",
        "  feature_std = np.where(feature_std == 0, 1e-5, feature_std) # 표준편차가 0일 때 1e-5를 넣어서 처리?\n",
        "\n",
        "  scaled_data = (numerical_array - feature_mean) / feature_std\n",
        "elif scaling_flag == 'min-max':\n",
        "  print('Min-max normalization of numeircal features\\n')\n",
        "  data_min = np.min(numerical_array, axis=0)\n",
        "  data_max = np.max(numerical_array, axis=0)\n",
        "\n",
        "  data_max = np.where(data_max == data_min, data_min + 1e-5, data_max) # min/max가 같으면 분모가 0이 되기 때문에\n",
        "\n",
        "  scaled_data = (numerical_array - data_min) / (data_max - data_min)\n",
        "\n",
        "categorical_features = eda_df.select_dtypes(include=[object]) # .select_dtypes, 데이터 범주 선택 (object고르기)\n",
        "categorical_array = categorical_features.values\n",
        "print('categorical features shape: {}'.format(categorical_array.shape))\n",
        "\n",
        "categorical_encoded_list = [] # 범주형 컬럼은 encoding을 해야함\n",
        "print('One-hot encoding of categorical features\\n') # 보통 One-hot encoding을 함!\n",
        "num_encoded_dim = 0\n",
        "for i, feature_name in enumerate(categorical_features.columns):\n",
        "    unique_values = np.unique(categorical_array[:, i])\n",
        "    print('{}: {}'.format(feature_name, unique_values))\n",
        "    num_encoded_dim += len(unique_values)\n",
        "\n",
        "    encoded_array = np.zeros((categorical_array.shape[0], len(unique_values)))\n",
        "    for j, value in enumerate(categorical_array[:, i]):\n",
        "        encoded_array[j, np.where(unique_values == value)[0]] = 1\n",
        "    categorical_encoded_list.append(encoded_array)\n",
        "\n",
        "categorical_encoded_array = np.hstack(categorical_encoded_list)\n",
        "print('\\none-hot encoded dim: {}'.format(num_encoded_dim))\n",
        "print('categorical encoded array shape: {}'.format(categorical_encoded_array.shape))\n",
        "\n",
        "processed_array = np.hstack((scaled_data, categorical_encoded_array))\n",
        "print('processed array shape: {}'.format(processed_array.shape))"
      ],
      "metadata": {
        "colab": {
          "base_uri": "https://localhost:8080/"
        },
        "id": "YX3MDFtPDiEa",
        "outputId": "6d9b075d-0486-41ba-8073-79b7274c8951"
      },
      "execution_count": null,
      "outputs": [
        {
          "output_type": "stream",
          "name": "stdout",
          "text": [
            "Min-max normalization of numeircal features\n",
            "\n",
            "categorical features shape: (68443, 21)\n",
            "One-hot encoding of categorical features\n",
            "\n",
            "loan_limit: ['cf' 'ncf']\n",
            "Gender: ['Female' 'Joint' 'Male' 'Sex Not Available']\n",
            "approv_in_adv: ['nopre' 'pre']\n",
            "loan_type: ['type1' 'type2' 'type3']\n",
            "loan_purpose: ['p1' 'p2' 'p3' 'p4']\n",
            "Credit_Worthiness: ['l1' 'l2']\n",
            "open_credit: ['nopc']\n",
            "business_or_commercial: ['b/c' 'nob/c']\n",
            "Neg_ammortization: ['neg_amm' 'not_neg']\n",
            "interest_only: ['int_only' 'not_int']\n",
            "lump_sum_payment: ['lpsm' 'not_lpsm']\n",
            "construction_type: ['sb']\n",
            "occupancy_type: ['ir' 'pr' 'sr']\n",
            "Secured_by: ['home']\n",
            "total_units: ['1U' '2U' '3U' '4U']\n",
            "credit_type: ['CIB' 'CRIF' 'EQUI' 'EXP']\n",
            "co-applicant_credit_type: ['CIB' 'EXP']\n",
            "age: ['25-34' '35-44' '45-54' '55-64' '65-74' '<25' '>74']\n",
            "submission_of_application: ['not_inst' 'to_inst']\n",
            "Region: ['North' 'North-East' 'central' 'south']\n",
            "Security_Type: ['direct']\n",
            "\n",
            "one-hot encoded dim: 55\n",
            "categorical encoded array shape: (68443, 55)\n",
            "processed array shape: (68443, 68)\n"
          ]
        }
      ]
    }
  ]
}