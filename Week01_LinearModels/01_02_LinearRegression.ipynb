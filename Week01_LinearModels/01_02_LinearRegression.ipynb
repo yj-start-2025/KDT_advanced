{
  "nbformat": 4,
  "nbformat_minor": 0,
  "metadata": {
    "colab": {
      "provenance": []
    },
    "kernelspec": {
      "name": "python3",
      "display_name": "Python 3"
    },
    "language_info": {
      "name": "python"
    }
  },
  "cells": [
    {
      "cell_type": "markdown",
      "source": [
        "## 선형회귀(Linear Regression)\n",
        "- 사실 AI 시대에 통계학 배울 때의 '회귀분석'을 생각하면 안 될 것 같다.\n",
        "  - '스파르타코딩클럽' 뿐만 아니라 많은 곳에서 회귀분석 설명하면서 정규방정식도 언급하지만 경사하강법을 설명하더라."
      ],
      "metadata": {
        "id": "G9EfEOUBLzme"
      }
    },
    {
      "cell_type": "markdown",
      "source": [
        "### 01 라이브러리, 하이퍼파라미터"
      ],
      "metadata": {
        "id": "kT63aobhMIVT"
      }
    },
    {
      "cell_type": "markdown",
      "source": [
        "#### 01-01 데이터 로드 및 라이브러리"
      ],
      "metadata": {
        "id": "8rFugY1_NZvW"
      }
    },
    {
      "cell_type": "code",
      "source": [
        "import torch # 머신러닝, 딥러닝에 활용되는 라이브러리\n",
        "import numpy as np # numpy 라이브러리(수식)\n",
        "import pandas as pd # pandas 라이브러리(데이터프레임)\n",
        "import matplotlib.pyplot as plt # 시각화 라이브러리\n",
        "\n",
        "from torch import nn # neural net? 신경망?\n",
        "from sklearn.datasets import fetch_california_housing # sklearn에 내장된 california_housing 데이터를 불러온다?\n",
        "from sklearn.metrics import mean_absolute_error, mean_squared_error\n",
        "from sklearn import model_selection\n",
        "\n",
        "device = torch.device(\"cuda\" if torch.cuda.is_available() else \"cpu\")\n",
        "regression_data_info = fetch_california_housing()"
      ],
      "metadata": {
        "id": "kKdlatvcMDpA"
      },
      "execution_count": null,
      "outputs": []
    },
    {
      "cell_type": "code",
      "source": [
        "regression_data_info # data는 x값을 array로, target은 y값이 array로"
      ],
      "metadata": {
        "colab": {
          "base_uri": "https://localhost:8080/"
        },
        "id": "oAjgjQG7Muw5",
        "outputId": "0444b383-db76-4a8c-9370-2ffbb65bf699"
      },
      "execution_count": null,
      "outputs": [
        {
          "output_type": "execute_result",
          "data": {
            "text/plain": [
              "{'data': array([[   8.3252    ,   41.        ,    6.98412698, ...,    2.55555556,\n",
              "           37.88      , -122.23      ],\n",
              "        [   8.3014    ,   21.        ,    6.23813708, ...,    2.10984183,\n",
              "           37.86      , -122.22      ],\n",
              "        [   7.2574    ,   52.        ,    8.28813559, ...,    2.80225989,\n",
              "           37.85      , -122.24      ],\n",
              "        ...,\n",
              "        [   1.7       ,   17.        ,    5.20554273, ...,    2.3256351 ,\n",
              "           39.43      , -121.22      ],\n",
              "        [   1.8672    ,   18.        ,    5.32951289, ...,    2.12320917,\n",
              "           39.43      , -121.32      ],\n",
              "        [   2.3886    ,   16.        ,    5.25471698, ...,    2.61698113,\n",
              "           39.37      , -121.24      ]]),\n",
              " 'target': array([4.526, 3.585, 3.521, ..., 0.923, 0.847, 0.894]),\n",
              " 'frame': None,\n",
              " 'target_names': ['MedHouseVal'],\n",
              " 'feature_names': ['MedInc',\n",
              "  'HouseAge',\n",
              "  'AveRooms',\n",
              "  'AveBedrms',\n",
              "  'Population',\n",
              "  'AveOccup',\n",
              "  'Latitude',\n",
              "  'Longitude'],\n",
              " 'DESCR': '.. _california_housing_dataset:\\n\\nCalifornia Housing dataset\\n--------------------------\\n\\n**Data Set Characteristics:**\\n\\n:Number of Instances: 20640\\n\\n:Number of Attributes: 8 numeric, predictive attributes and the target\\n\\n:Attribute Information:\\n    - MedInc        median income in block group\\n    - HouseAge      median house age in block group\\n    - AveRooms      average number of rooms per household\\n    - AveBedrms     average number of bedrooms per household\\n    - Population    block group population\\n    - AveOccup      average number of household members\\n    - Latitude      block group latitude\\n    - Longitude     block group longitude\\n\\n:Missing Attribute Values: None\\n\\nThis dataset was obtained from the StatLib repository.\\nhttps://www.dcc.fc.up.pt/~ltorgo/Regression/cal_housing.html\\n\\nThe target variable is the median house value for California districts,\\nexpressed in hundreds of thousands of dollars ($100,000).\\n\\nThis dataset was derived from the 1990 U.S. census, using one row per census\\nblock group. A block group is the smallest geographical unit for which the U.S.\\nCensus Bureau publishes sample data (a block group typically has a population\\nof 600 to 3,000 people).\\n\\nA household is a group of people residing within a home. Since the average\\nnumber of rooms and bedrooms in this dataset are provided per household, these\\ncolumns may take surprisingly large values for block groups with few households\\nand many empty houses, such as vacation resorts.\\n\\nIt can be downloaded/loaded using the\\n:func:`sklearn.datasets.fetch_california_housing` function.\\n\\n.. rubric:: References\\n\\n- Pace, R. Kelley and Ronald Barry, Sparse Spatial Autoregressions,\\n  Statistics and Probability Letters, 33 (1997) 291-297\\n'}"
            ]
          },
          "metadata": {},
          "execution_count": 10
        }
      ]
    },
    {
      "cell_type": "code",
      "source": [
        "regression_data_info.feature_names # 변수명 확인"
      ],
      "metadata": {
        "colab": {
          "base_uri": "https://localhost:8080/"
        },
        "id": "xP_qC1EIMzjM",
        "outputId": "ae9b9cbc-56be-474d-b9ea-a703ed3fab50"
      },
      "execution_count": null,
      "outputs": [
        {
          "output_type": "execute_result",
          "data": {
            "text/plain": [
              "['MedInc',\n",
              " 'HouseAge',\n",
              " 'AveRooms',\n",
              " 'AveBedrms',\n",
              " 'Population',\n",
              " 'AveOccup',\n",
              " 'Latitude',\n",
              " 'Longitude']"
            ]
          },
          "metadata": {},
          "execution_count": 11
        }
      ]
    },
    {
      "cell_type": "markdown",
      "source": [
        "#### 01-02 학습조건 설정\n",
        "- epochs = 200 : 학습 주기(횟수) 200회\n",
        "- learning_rate : 학습률(작을수록 학습할 때마다 x축 상에서 작게 이동)\n",
        "- colab에서 가속모드 사용안했기에 device는 cpu나옴(보통 메모리 12GB정도 됨)\n",
        "  - 25년 7월 기준 대한민국에서는 colab pro, colab pro+ 을 '정식'으로 구독할 방법 없음"
      ],
      "metadata": {
        "id": "EAFSfpAUNmP2"
      }
    },
    {
      "cell_type": "code",
      "source": [
        "regression_feature_names = regression_data_info.feature_names # 그래서 강의 교안 코드에 .feature_names를 표시\n",
        "\n",
        "num_samples = 100\n",
        "test_data_ratio = 0.3 # test data 비율 30%, train data 비율 70%\n",
        "\n",
        "random_state = 0 # random_state 설정(재현성 위해서)\n",
        "polynomial_degree = 1 # 1차식(선형 회귀이므로)\n",
        "\n",
        "epochs = 200\n",
        "learning_rate = 5e-2  # 5e-2= (0.05), 1e-5, 5e-5, 1e-4, 5-e4, 1e-3, 5e-3, 1e-2, 5e-2\n",
        "\n",
        "criterion = torch.nn.MSELoss()\n",
        "\n",
        "print(\"device: {}\".format(device))"
      ],
      "metadata": {
        "colab": {
          "base_uri": "https://localhost:8080/"
        },
        "id": "2CkAq-CtNQwM",
        "outputId": "470e39da-5969-4bde-ff08-464bef3e0bc3"
      },
      "execution_count": null,
      "outputs": [
        {
          "output_type": "stream",
          "name": "stdout",
          "text": [
            "device: cpu\n"
          ]
        }
      ]
    },
    {
      "cell_type": "markdown",
      "source": [
        "#### 01-03 (참고) sin 함수 확인?\n",
        "- (-1.57079632679, 1.57079632679)안에 속하는 sin함수는?"
      ],
      "metadata": {
        "id": "KjMX_MNRN_2x"
      }
    },
    {
      "cell_type": "code",
      "source": [
        "data = np.linspace(-np.pi/2, np.pi/2, num_samples).reshape(num_samples,1)\n",
        "\n",
        "label = np.sin(data)\n",
        "\n",
        "idx = np.random.permutation(num_samples)\n",
        "\n",
        "data = data[idx]\n",
        "label = label[idx]\n",
        "\n",
        "plt.scatter(data, label)\n",
        "plt.show()"
      ],
      "metadata": {
        "colab": {
          "base_uri": "https://localhost:8080/",
          "height": 430
        },
        "id": "gjlOSXIzNxKB",
        "outputId": "591464b4-374e-4174-a848-91bb15e3c88c"
      },
      "execution_count": null,
      "outputs": [
        {
          "output_type": "display_data",
          "data": {
            "text/plain": [
              "<Figure size 640x480 with 1 Axes>"
            ],
            "image/png": "[encoded data removed]"
          },
          "metadata": {}
        }
      ]
    },
    {
      "cell_type": "markdown",
      "source": [
        "#### 01-03 Califnoia Dataset 일부 확인\n"
      ],
      "metadata": {
        "id": "dQ86OPZcOmFE"
      }
    },
    {
      "cell_type": "code",
      "source": [
        "california_df = pd.DataFrame(regression_data_info.data, columns=regression_feature_names) # column-name은 feature_name\n",
        "california_df['label'] = regression_data_info.target # y값은 target\n",
        "\n",
        "california_df.head()"
      ],
      "metadata": {
        "colab": {
          "base_uri": "https://localhost:8080/",
          "height": 206
        },
        "id": "4A-vewDAObSk",
        "outputId": "9214ed98-fc45-444d-dbc9-7842c9fb5150"
      },
      "execution_count": null,
      "outputs": [
        {
          "output_type": "execute_result",
          "data": {
            "text/plain": [
              "   MedInc  HouseAge  AveRooms  AveBedrms  Population  AveOccup  Latitude  \\\n",
              "0  8.3252      41.0  6.984127   1.023810       322.0  2.555556     37.88   \n",
              "1  8.3014      21.0  6.238137   0.971880      2401.0  2.109842     37.86   \n",
              "2  7.2574      52.0  8.288136   1.073446       496.0  2.802260     37.85   \n",
              "3  5.6431      52.0  5.817352   1.073059       558.0  2.547945     37.85   \n",
              "4  3.8462      52.0  6.281853   1.081081       565.0  2.181467     37.85   \n",
              "\n",
              "   Longitude  label  \n",
              "0    -122.23  4.526  \n",
              "1    -122.22  3.585  \n",
              "2    -122.24  3.521  \n",
              "3    -122.25  3.413  \n",
              "4    -122.25  3.422  "
            ],
            "text/html": [
              "\n",
              "  <div id=\"df-2f72309e-c99e-4e34-98ca-7177e78b1635\" class=\"colab-df-container\">\n",
              "    <div>\n",
              "<style scoped>\n",
              "    .dataframe tbody tr th:only-of-type {\n",
              "        vertical-align: middle;\n",
              "    }\n",
              "\n",
              "    .dataframe tbody tr th {\n",
              "        vertical-align: top;\n",
              "    }\n",
              "\n",
              "    .dataframe thead th {\n",
              "        text-align: right;\n",
              "    }\n",
              "</style>\n",
              "<table border=\"1\" class=\"dataframe\">\n",
              "  <thead>\n",
              "    <tr style=\"text-align: right;\">\n",
              "      <th></th>\n",
              "      <th>MedInc</th>\n",
              "      <th>HouseAge</th>\n",
              "      <th>AveRooms</th>\n",
              "      <th>AveBedrms</th>\n",
              "      <th>Population</th>\n",
              "      <th>AveOccup</th>\n",
              "      <th>Latitude</th>\n",
              "      <th>Longitude</th>\n",
              "      <th>label</th>\n",
              "    </tr>\n",
              "  </thead>\n",
              "  <tbody>\n",
              "    <tr>\n",
              "      <th>0</th>\n",
              "      <td>8.3252</td>\n",
              "      <td>41.0</td>\n",
              "      <td>6.984127</td>\n",
              "      <td>1.023810</td>\n",
              "      <td>322.0</td>\n",
              "      <td>2.555556</td>\n",
              "      <td>37.88</td>\n",
              "      <td>-122.23</td>\n",
              "      <td>4.526</td>\n",
              "    </tr>\n",
              "    <tr>\n",
              "      <th>1</th>\n",
              "      <td>8.3014</td>\n",
              "      <td>21.0</td>\n",
              "      <td>6.238137</td>\n",
              "      <td>0.971880</td>\n",
              "      <td>2401.0</td>\n",
              "      <td>2.109842</td>\n",
              "      <td>37.86</td>\n",
              "      <td>-122.22</td>\n",
              "      <td>3.585</td>\n",
              "    </tr>\n",
              "    <tr>\n",
              "      <th>2</th>\n",
              "      <td>7.2574</td>\n",
              "      <td>52.0</td>\n",
              "      <td>8.288136</td>\n",
              "      <td>1.073446</td>\n",
              "      <td>496.0</td>\n",
              "      <td>2.802260</td>\n",
              "      <td>37.85</td>\n",
              "      <td>-122.24</td>\n",
              "      <td>3.521</td>\n",
              "    </tr>\n",
              "    <tr>\n",
              "      <th>3</th>\n",
              "      <td>5.6431</td>\n",
              "      <td>52.0</td>\n",
              "      <td>5.817352</td>\n",
              "      <td>1.073059</td>\n",
              "      <td>558.0</td>\n",
              "      <td>2.547945</td>\n",
              "      <td>37.85</td>\n",
              "      <td>-122.25</td>\n",
              "      <td>3.413</td>\n",
              "    </tr>\n",
              "    <tr>\n",
              "      <th>4</th>\n",
              "      <td>3.8462</td>\n",
              "      <td>52.0</td>\n",
              "      <td>6.281853</td>\n",
              "      <td>1.081081</td>\n",
              "      <td>565.0</td>\n",
              "      <td>2.181467</td>\n",
              "      <td>37.85</td>\n",
              "      <td>-122.25</td>\n",
              "      <td>3.422</td>\n",
              "    </tr>\n",
              "  </tbody>\n",
              "</table>\n",
              "</div>\n",
              "    <div class=\"colab-df-buttons\">\n",
              "\n",
              "  <div class=\"colab-df-container\">\n",
              "    <button class=\"colab-df-convert\" onclick=\"convertToInteractive('df-2f72309e-c99e-4e34-98ca-7177e78b1635')\"\n",
              "            title=\"Convert this dataframe to an interactive table.\"\n",
              "            style=\"display:none;\">\n",
              "\n",
              "  <svg xmlns=\"http://www.w3.org/2000/svg\" height=\"24px\" viewBox=\"0 -960 960 960\">\n",
              "    <path d=\"M120-120v-720h720v720H120Zm60-500h600v-160H180v160Zm220 220h160v-160H400v160Zm0 220h160v-160H400v160ZM180-400h160v-160H180v160Zm440 0h160v-160H620v160ZM180-180h160v-160H180v160Zm440 0h160v-160H620v160Z\"/>\n",
              "  </svg>\n",
              "    </button>\n",
              "\n",
              "  <style>\n",
              "    .colab-df-container {\n",
              "      display:flex;\n",
              "      gap: 12px;\n",
              "    }\n",
              "\n",
              "    .colab-df-convert {\n",
              "      background-color: #E8F0FE;\n",
              "      border: none;\n",
              "      border-radius: 50%;\n",
              "      cursor: pointer;\n",
              "      display: none;\n",
              "      fill: #1967D2;\n",
              "      height: 32px;\n",
              "      padding: 0 0 0 0;\n",
              "      width: 32px;\n",
              "    }\n",
              "\n",
              "    .colab-df-convert:hover {\n",
              "      background-color: #E2EBFA;\n",
              "      box-shadow: 0px 1px 2px rgba(60, 64, 67, 0.3), 0px 1px 3px 1px rgba(60, 64, 67, 0.15);\n",
              "      fill: #174EA6;\n",
              "    }\n",
              "\n",
              "    .colab-df-buttons div {\n",
              "      margin-bottom: 4px;\n",
              "    }\n",
              "\n",
              "    [theme=dark] .colab-df-convert {\n",
              "      background-color: #3B4455;\n",
              "      fill: #D2E3FC;\n",
              "    }\n",
              "\n",
              "    [theme=dark] .colab-df-convert:hover {\n",
              "      background-color: #434B5C;\n",
              "      box-shadow: 0px 1px 3px 1px rgba(0, 0, 0, 0.15);\n",
              "      filter: drop-shadow(0px 1px 2px rgba(0, 0, 0, 0.3));\n",
              "      fill: #FFFFFF;\n",
              "    }\n",
              "  </style>\n",
              "\n",
              "    <script>\n",
              "      const buttonEl =\n",
              "        document.querySelector('#df-2f72309e-c99e-4e34-98ca-7177e78b1635 button.colab-df-convert');\n",
              "      buttonEl.style.display =\n",
              "        google.colab.kernel.accessAllowed ? 'block' : 'none';\n",
              "\n",
              "      async function convertToInteractive(key) {\n",
              "        const element = document.querySelector('#df-2f72309e-c99e-4e34-98ca-7177e78b1635');\n",
              "        const dataTable =\n",
              "          await google.colab.kernel.invokeFunction('convertToInteractive',\n",
              "                                                    [key], {});\n",
              "        if (!dataTable) return;\n",
              "\n",
              "        const docLinkHtml = 'Like what you see? Visit the ' +\n",
              "          '<a target=\"_blank\" href=https://colab.research.google.com/notebooks/data_table.ipynb>data table notebook</a>'\n",
              "          + ' to learn more about interactive tables.';\n",
              "        element.innerHTML = '';\n",
              "        dataTable['output_type'] = 'display_data';\n",
              "        await google.colab.output.renderOutput(dataTable, element);\n",
              "        const docLink = document.createElement('div');\n",
              "        docLink.innerHTML = docLinkHtml;\n",
              "        element.appendChild(docLink);\n",
              "      }\n",
              "    </script>\n",
              "  </div>\n",
              "\n",
              "\n",
              "    <div id=\"df-8766c5a9-cee8-4258-b176-f5505028039f\">\n",
              "      <button class=\"colab-df-quickchart\" onclick=\"quickchart('df-8766c5a9-cee8-4258-b176-f5505028039f')\"\n",
              "                title=\"Suggest charts\"\n",
              "                style=\"display:none;\">\n",
              "\n",
              "<svg xmlns=\"http://www.w3.org/2000/svg\" height=\"24px\"viewBox=\"0 0 24 24\"\n",
              "     width=\"24px\">\n",
              "    <g>\n",
              "        <path d=\"M19 3H5c-1.1 0-2 .9-2 2v14c0 1.1.9 2 2 2h14c1.1 0 2-.9 2-2V5c0-1.1-.9-2-2-2zM9 17H7v-7h2v7zm4 0h-2V7h2v10zm4 0h-2v-4h2v4z\"/>\n",
              "    </g>\n",
              "</svg>\n",
              "      </button>\n",
              "\n",
              "<style>\n",
              "  .colab-df-quickchart {\n",
              "      --bg-color: #E8F0FE;\n",
              "      --fill-color: #1967D2;\n",
              "      --hover-bg-color: #E2EBFA;\n",
              "      --hover-fill-color: #174EA6;\n",
              "      --disabled-fill-color: #AAA;\n",
              "      --disabled-bg-color: #DDD;\n",
              "  }\n",
              "\n",
              "  [theme=dark] .colab-df-quickchart {\n",
              "      --bg-color: #3B4455;\n",
              "      --fill-color: #D2E3FC;\n",
              "      --hover-bg-color: #434B5C;\n",
              "      --hover-fill-color: #FFFFFF;\n",
              "      --disabled-bg-color: #3B4455;\n",
              "      --disabled-fill-color: #666;\n",
              "  }\n",
              "\n",
              "  .colab-df-quickchart {\n",
              "    background-color: var(--bg-color);\n",
              "    border: none;\n",
              "    border-radius: 50%;\n",
              "    cursor: pointer;\n",
              "    display: none;\n",
              "    fill: var(--fill-color);\n",
              "    height: 32px;\n",
              "    padding: 0;\n",
              "    width: 32px;\n",
              "  }\n",
              "\n",
              "  .colab-df-quickchart:hover {\n",
              "    background-color: var(--hover-bg-color);\n",
              "    box-shadow: 0 1px 2px rgba(60, 64, 67, 0.3), 0 1px 3px 1px rgba(60, 64, 67, 0.15);\n",
              "    fill: var(--button-hover-fill-color);\n",
              "  }\n",
              "\n",
              "  .colab-df-quickchart-complete:disabled,\n",
              "  .colab-df-quickchart-complete:disabled:hover {\n",
              "    background-color: var(--disabled-bg-color);\n",
              "    fill: var(--disabled-fill-color);\n",
              "    box-shadow: none;\n",
              "  }\n",
              "\n",
              "  .colab-df-spinner {\n",
              "    border: 2px solid var(--fill-color);\n",
              "    border-color: transparent;\n",
              "    border-bottom-color: var(--fill-color);\n",
              "    animation:\n",
              "      spin 1s steps(1) infinite;\n",
              "  }\n",
              "\n",
              "  @keyframes spin {\n",
              "    0% {\n",
              "      border-color: transparent;\n",
              "      border-bottom-color: var(--fill-color);\n",
              "      border-left-color: var(--fill-color);\n",
              "    }\n",
              "    20% {\n",
              "      border-color: transparent;\n",
              "      border-left-color: var(--fill-color);\n",
              "      border-top-color: var(--fill-color);\n",
              "    }\n",
              "    30% {\n",
              "      border-color: transparent;\n",
              "      border-left-color: var(--fill-color);\n",
              "      border-top-color: var(--fill-color);\n",
              "      border-right-color: var(--fill-color);\n",
              "    }\n",
              "    40% {\n",
              "      border-color: transparent;\n",
              "      border-right-color: var(--fill-color);\n",
              "      border-top-color: var(--fill-color);\n",
              "    }\n",
              "    60% {\n",
              "      border-color: transparent;\n",
              "      border-right-color: var(--fill-color);\n",
              "    }\n",
              "    80% {\n",
              "      border-color: transparent;\n",
              "      border-right-color: var(--fill-color);\n",
              "      border-bottom-color: var(--fill-color);\n",
              "    }\n",
              "    90% {\n",
              "      border-color: transparent;\n",
              "      border-bottom-color: var(--fill-color);\n",
              "    }\n",
              "  }\n",
              "</style>\n",
              "\n",
              "      <script>\n",
              "        async function quickchart(key) {\n",
              "          const quickchartButtonEl =\n",
              "            document.querySelector('#' + key + ' button');\n",
              "          quickchartButtonEl.disabled = true;  // To prevent multiple clicks.\n",
              "          quickchartButtonEl.classList.add('colab-df-spinner');\n",
              "          try {\n",
              "            const charts = await google.colab.kernel.invokeFunction(\n",
              "                'suggestCharts', [key], {});\n",
              "          } catch (error) {\n",
              "            console.error('Error during call to suggestCharts:', error);\n",
              "          }\n",
              "          quickchartButtonEl.classList.remove('colab-df-spinner');\n",
              "          quickchartButtonEl.classList.add('colab-df-quickchart-complete');\n",
              "        }\n",
              "        (() => {\n",
              "          let quickchartButtonEl =\n",
              "            document.querySelector('#df-8766c5a9-cee8-4258-b176-f5505028039f button');\n",
              "          quickchartButtonEl.style.display =\n",
              "            google.colab.kernel.accessAllowed ? 'block' : 'none';\n",
              "        })();\n",
              "      </script>\n",
              "    </div>\n",
              "\n",
              "    </div>\n",
              "  </div>\n"
            ],
            "application/vnd.google.colaboratory.intrinsic+json": {
              "type": "dataframe",
              "variable_name": "california_df",
              "summary": "{\n  \"name\": \"california_df\",\n  \"rows\": 20640,\n  \"fields\": [\n    {\n      \"column\": \"MedInc\",\n      \"properties\": {\n        \"dtype\": \"number\",\n        \"std\": 1.8998217179452732,\n        \"min\": 0.4999,\n        \"max\": 15.0001,\n        \"num_unique_values\": 12928,\n        \"samples\": [\n          5.0286,\n          2.0433,\n          6.1228\n        ],\n        \"semantic_type\": \"\",\n        \"description\": \"\"\n      }\n    },\n    {\n      \"column\": \"HouseAge\",\n      \"properties\": {\n        \"dtype\": \"number\",\n        \"std\": 12.585557612111637,\n        \"min\": 1.0,\n        \"max\": 52.0,\n        \"num_unique_values\": 52,\n        \"samples\": [\n          35.0,\n          25.0,\n          7.0\n        ],\n        \"semantic_type\": \"\",\n        \"description\": \"\"\n      }\n    },\n    {\n      \"column\": \"AveRooms\",\n      \"properties\": {\n        \"dtype\": \"number\",\n        \"std\": 2.4741731394243205,\n        \"min\": 0.8461538461538461,\n        \"max\": 141.9090909090909,\n        \"num_unique_values\": 19392,\n        \"samples\": [\n          6.111269614835948,\n          5.912820512820513,\n          5.7924528301886795\n        ],\n        \"semantic_type\": \"\",\n        \"description\": \"\"\n      }\n    },\n    {\n      \"column\": \"AveBedrms\",\n      \"properties\": {\n        \"dtype\": \"number\",\n        \"std\": 0.47391085679546435,\n        \"min\": 0.3333333333333333,\n        \"max\": 34.06666666666667,\n        \"num_unique_values\": 14233,\n        \"samples\": [\n          0.9906542056074766,\n          1.112099644128114,\n          1.0398230088495575\n        ],\n        \"semantic_type\": \"\",\n        \"description\": \"\"\n      }\n    },\n    {\n      \"column\": \"Population\",\n      \"properties\": {\n        \"dtype\": \"number\",\n        \"std\": 1132.4621217653375,\n        \"min\": 3.0,\n        \"max\": 35682.0,\n        \"num_unique_values\": 3888,\n        \"samples\": [\n          4169.0,\n          636.0,\n          3367.0\n        ],\n        \"semantic_type\": \"\",\n        \"description\": \"\"\n      }\n    },\n    {\n      \"column\": \"AveOccup\",\n      \"properties\": {\n        \"dtype\": \"number\",\n        \"std\": 10.386049562213591,\n        \"min\": 0.6923076923076923,\n        \"max\": 1243.3333333333333,\n        \"num_unique_values\": 18841,\n        \"samples\": [\n          2.6939799331103678,\n          3.559375,\n          3.297082228116711\n        ],\n        \"semantic_type\": \"\",\n        \"description\": \"\"\n      }\n    },\n    {\n      \"column\": \"Latitude\",\n      \"properties\": {\n        \"dtype\": \"number\",\n        \"std\": 2.1359523974571117,\n        \"min\": 32.54,\n        \"max\": 41.95,\n        \"num_unique_values\": 862,\n        \"samples\": [\n          33.7,\n          34.41,\n          38.24\n        ],\n        \"semantic_type\": \"\",\n        \"description\": \"\"\n      }\n    },\n    {\n      \"column\": \"Longitude\",\n      \"properties\": {\n        \"dtype\": \"number\",\n        \"std\": 2.003531723502581,\n        \"min\": -124.35,\n        \"max\": -114.31,\n        \"num_unique_values\": 844,\n        \"samples\": [\n          -118.63,\n          -119.86,\n          -121.26\n        ],\n        \"semantic_type\": \"\",\n        \"description\": \"\"\n      }\n    },\n    {\n      \"column\": \"label\",\n      \"properties\": {\n        \"dtype\": \"number\",\n        \"std\": 1.1539561587441483,\n        \"min\": 0.14999,\n        \"max\": 5.00001,\n        \"num_unique_values\": 3842,\n        \"samples\": [\n          1.943,\n          3.79,\n          2.301\n        ],\n        \"semantic_type\": \"\",\n        \"description\": \"\"\n      }\n    }\n  ]\n}"
            }
          },
          "metadata": {},
          "execution_count": 19
        }
      ]
    },
    {
      "cell_type": "markdown",
      "source": [
        "### 02 여러 함수 정의\n",
        "- 데이터 로드 하고 시각화 하는 과정에서의 여러 함수들 정의"
      ],
      "metadata": {
        "id": "0OgE0OElO5IC"
      }
    },
    {
      "cell_type": "markdown",
      "source": [
        "#### 02-01 데이터 로드, 시각화 함수 정의"
      ],
      "metadata": {
        "id": "qgz62_TvPYdh"
      }
    },
    {
      "cell_type": "code",
      "source": [
        "class SimpleDataLoader:\n",
        "  def __init__(self, num_samples, test_data_ratio):\n",
        "        self.num_samples = num_samples\n",
        "        self.test_data_ratio = test_data_ratio\n",
        "\n",
        "        self.data, self.label = self.get_dataset()\n",
        "        self.train_data, self.train_label, self.test_data, self.test_label = (self.get_split_data())\n",
        "\n",
        "        # self.standardize_data()\n",
        "        self.min_max_normalize_data()\n",
        "\n",
        "  def __call__(self, flag):\n",
        "    if flag == 'train':\n",
        "        return self.train_data, self.train_label\n",
        "    else:\n",
        "        return self.test_data, self.test_label\n",
        "\n",
        "  def get_dataset(self):\n",
        "    data = np.linspace(-np.pi/2, np.pi/2, self.num_samples).reshape(self.num_samples, 1)\n",
        "    label = np.sin(data)\n",
        "\n",
        "    idx = np.random.permutation(self.num_samples)\n",
        "\n",
        "    data = data[idx]\n",
        "    label = label[idx]\n",
        "\n",
        "    return data, label\n",
        "\n",
        "  def get_split_data(self):\n",
        "    num_train_data = int(self.num_samples*(1-self.test_data_ratio))\n",
        "\n",
        "    train_data, train_label = self.data[:num_train_data], self.label[:num_train_data]\n",
        "    test_data, test_label = self.data[num_train_data:], self.label[num_train_data:]\n",
        "\n",
        "    return train_data, train_label, test_data, test_label\n",
        "\n",
        "  def standardize_data(self):\n",
        "    mean = np.mean(self.train_data, axis=0)\n",
        "    std = np.std(self.train_data, axis=0)\n",
        "\n",
        "    self.train_data = (self.train_data - mean) / std\n",
        "    self.test_data = (self.test_data - mean) / std\n",
        "\n",
        "  def min_max_normalize_data(self):\n",
        "    min = np.min(self.train_data, axis=0)\n",
        "    max = np.max(self.train_data, axis=0)\n",
        "\n",
        "    self.train_data = (self.train_data - min) / (max - min)\n",
        "    self.test_data = (self.test_data - min) / (max - min)\n",
        "\n",
        "\n",
        "class MultipleDataLoader:\n",
        "  def __init__(self, data_info, feature_names, test_data_ratio, random_state):\n",
        "    self.data_info = data_info\n",
        "    self.feature_names = feature_names\n",
        "    self.test_data_ratio = test_data_ratio\n",
        "    self.random_state = random_state\n",
        "\n",
        "    self.data_infos = self.get_data_infos()\n",
        "    self.data, self.label = self.get_dataset()\n",
        "\n",
        "    self.train_data, self.train_label, self.test_data, self.test_label = (self.get_split_data())\n",
        "    self.standardize_data()\n",
        "    # self.min_max_normalize_data()\n",
        "\n",
        "\n",
        "  def __call__(self, flag):\n",
        "    if flag == 'train':\n",
        "        return self.train_data, self.train_label\n",
        "    else:\n",
        "        return self.test_data, self.test_label\n",
        "\n",
        "  def get_data_infos(self):\n",
        "    df = pd.DataFrame(self.data_info.data, columns=self.feature_names)\n",
        "    df['label'] = self.data_info.target\n",
        "\n",
        "    return df\n",
        "\n",
        "  def get_dataset(self):\n",
        "    data, label = self.data_infos.drop(columns=['label']), self.data_infos['label']\n",
        "\n",
        "    return data, label\n",
        "\n",
        "  def get_split_data(self):\n",
        "    train_data, test_data, train_label, test_label = model_selection.train_test_split(\n",
        "        self.data, self.label, test_size=self.test_data_ratio, random_state = self.random_state\n",
        "    )\n",
        "    return train_data.to_numpy(), train_label.to_numpy(), test_data.to_numpy(), test_label.to_numpy()\n",
        "\n",
        "  def standardize_data(self):\n",
        "    mean = np.mean(self.train_data, axis=0)\n",
        "    std = np.std(self.train_data, axis=0)\n",
        "\n",
        "    self.train_data = (self.train_data - mean) / std\n",
        "    self.test_data = (self.test_data - mean) / std\n",
        "\n",
        "  def min_max_normalize_data(self):\n",
        "    min = np.min(self.train_data, axis=0)\n",
        "    max = np.max(self.train_data, axis=0)\n",
        "\n",
        "    self.train_data = (self.train_data - min) / (max - min)\n",
        "    self.test_data = (self.test_data - min) / (max - min)\n",
        "\n",
        "\n",
        "class DataProcessor:\n",
        "  def __init__(self, polynomial_degree):\n",
        "    self.polynomial_degree = polynomial_degree\n",
        "\n",
        "  def __call__(self, data):\n",
        "    num_samples = data.shape[0]\n",
        "\n",
        "    bias_term = np.ones(num_samples).reshape(-1, 1)\n",
        "    concat_data = bias_term\n",
        "\n",
        "    for i in range(1, self.polynomial_degree + 1):\n",
        "        concat_data = np.concatenate((concat_data, np.power(data, i)), axis=1)\n",
        "\n",
        "    return concat_data\n",
        "\n",
        "simple_dataloader = SimpleDataLoader(num_samples, test_data_ratio)\n",
        "data_processor = DataProcessor(polynomial_degree)\n",
        "\n",
        "simple_train_data, simple_train_label = simple_dataloader('train')\n",
        "simple_test_data, simple_test_label = simple_dataloader('test')\n",
        "\n",
        "simple_concat_train_data = data_processor(simple_train_data)\n",
        "simple_concat_test_data = data_processor(simple_test_data)\n",
        "\n",
        "multiple_dataloader = MultipleDataLoader(regression_data_info, regression_feature_names, test_data_ratio, random_state)\n",
        "multiple_train_data, multiple_train_label = multiple_dataloader('train')\n",
        "multiple_test_data, multiple_test_label = multiple_dataloader('test')\n",
        "\n",
        "multiple_concat_train_data = data_processor(multiple_train_data)\n",
        "multiple_concat_test_data = data_processor(multiple_test_data)\n",
        "\n",
        "print('simple concat train data: {}/simple concat train label: {}'.format(simple_concat_train_data.shape, simple_train_label.shape))\n",
        "print('simple concat test data: {}/simple concat test label: {}'.format(simple_concat_test_data.shape, simple_test_label.shape))\n",
        "\n",
        "print('multiple concat train data: {}/multiple concat train label: {}'.format(multiple_concat_train_data.shape, multiple_train_label.shape))\n",
        "print('multiple concat test data: {}/multiple concat test label: {}'.format(multiple_concat_test_data.shape, multiple_test_label.shape))"
      ],
      "metadata": {
        "colab": {
          "base_uri": "https://localhost:8080/"
        },
        "id": "3ntn7kjqOzIb",
        "outputId": "9d6dea8b-60c9-47da-be0a-78afdd1c6fd3"
      },
      "execution_count": null,
      "outputs": [
        {
          "output_type": "stream",
          "name": "stdout",
          "text": [
            "simple concat train data: (70, 2)/simple concat train label: (70, 1)\n",
            "simple concat test data: (30, 2)/simple concat test label: (30, 1)\n",
            "multiple concat train data: (14448, 9)/multiple concat train label: (14448,)\n",
            "multiple concat test data: (6192, 9)/multiple concat test label: (6192,)\n"
          ]
        }
      ]
    },
    {
      "cell_type": "markdown",
      "source": [
        "#### 02-02 Regression 정의"
      ],
      "metadata": {
        "id": "JGEPiLH9Pbzk"
      }
    },
    {
      "cell_type": "code",
      "source": [
        "class TorchLinearRegression(nn.Module):\n",
        "  def __init__(self, data):\n",
        "    super(TorchLinearRegression, self).__init__()\n",
        "    self.regressor = nn.Linear(data.shape[1], 1, bias=False)\n",
        "\n",
        "  def forward(self, data):\n",
        "    result = self.regressor(data)\n",
        "\n",
        "    return result\n",
        "\n",
        "  def get_params(self):\n",
        "    param_list = list(self.regressor.parameters())\n",
        "\n",
        "    weight = param_list[0][0, 1:].cpu().detach().numpy()\n",
        "    bias = param_list[0][0, 0].cpu().detach().numpy()\n",
        "\n",
        "    return weight, bias\n",
        "\n",
        "class NumpyLinearRegression:\n",
        "  def __init__(self):\n",
        "    self.parameters = None\n",
        "\n",
        "  def __call__(self, data):\n",
        "    pred = data @ self.parameters\n",
        "\n",
        "    return pred\n",
        "\n",
        "  def get_params(self):\n",
        "    np_weight, np_bias = self.parameters[1:], self.parameters[0]\n",
        "\n",
        "    return np_weight, np_bias\n",
        "\n",
        "\n",
        "simple_np_regressor = NumpyLinearRegression()\n",
        "\n",
        "simple_torch_regressor = TorchLinearRegression(simple_concat_train_data).to(device)\n",
        "simple_torch_model_optimizer = torch.optim.SGD(simple_torch_regressor.parameters(), lr =learning_rate)\n",
        "\n",
        "multiple_np_regressor = NumpyLinearRegression()\n",
        "\n",
        "multiple_torch_regressor = TorchLinearRegression(multiple_concat_train_data).to(device)\n",
        "multiple_torch_model_optimizer = torch.optim.SGD(multiple_torch_regressor.parameters(), lr =learning_rate)\n"
      ],
      "metadata": {
        "id": "vd4pMFMVO-EL"
      },
      "execution_count": null,
      "outputs": []
    },
    {
      "cell_type": "markdown",
      "source": [
        "### 03 Regression 학습"
      ],
      "metadata": {
        "id": "T0JCpIOUPpXG"
      }
    },
    {
      "cell_type": "markdown",
      "source": [
        "#### 03-01 Regression 정의\n",
        "- numpy\n",
        "- torch"
      ],
      "metadata": {
        "id": "V5369AQWPzO7"
      }
    },
    {
      "cell_type": "code",
      "source": [
        "def train_numpy_model(data, label, model):\n",
        "  model.parameters = np.linalg.inv(data.T @ data) @ data.T @ label   # θ = (XᵀX)⁻¹Xᵀy\n",
        "\n",
        "\n",
        "def train_torch_model(data, label, model, criterion, optimizer, epochs, device):\n",
        "  model.train()\n",
        "\n",
        "  data, label = torch.tensor(data, dtype=torch.float32).to(device), torch.tensor(\n",
        "    label, dtype=torch.float32\n",
        "  ).to(device)\n",
        "\n",
        "  for epoch in range(epochs):\n",
        "    optimizer.zero_grad()\n",
        "    result = model(data)\n",
        "\n",
        "    label = label.reshape(label.shape[0], 1)\n",
        "    loss = criterion(result, label)\n",
        "\n",
        "    loss.backward()\n",
        "    optimizer.step()\n",
        "\n",
        "\n",
        "train_numpy_model(simple_concat_train_data, simple_train_label, simple_np_regressor)\n",
        "train_torch_model(simple_concat_train_data, simple_train_label, simple_torch_regressor, criterion, simple_torch_model_optimizer, epochs, device)\n",
        "\n",
        "train_numpy_model(multiple_concat_train_data, multiple_train_label, multiple_np_regressor)\n",
        "train_torch_model(multiple_concat_train_data, multiple_train_label, multiple_torch_regressor, criterion, multiple_torch_model_optimizer, epochs, device)"
      ],
      "metadata": {
        "id": "5PNh5R57PnDv"
      },
      "execution_count": null,
      "outputs": []
    },
    {
      "cell_type": "markdown",
      "source": [
        "#### 03-02 파라미터 시각화"
      ],
      "metadata": {
        "id": "ZhTD3tLlP4_L"
      }
    },
    {
      "cell_type": "code",
      "source": [
        "def show_parameters(np_model, torch_model):\n",
        "  np_weight, np_bias = np_model.get_params()\n",
        "\n",
        "  torch_weight, torch_bias = torch_model.get_params()\n",
        "\n",
        "  print('np weight : {}\\n torch_weight : {}'.format(np_weight,torch_weight))\n",
        "  print('np bias : {}#n torch_weight: {}'.format(np_bias, torch_bias))\n",
        "\n",
        "show_parameters(simple_np_regressor, simple_torch_regressor)\n",
        "show_parameters(multiple_np_regressor, multiple_torch_regressor)"
      ],
      "metadata": {
        "colab": {
          "base_uri": "https://localhost:8080/"
        },
        "id": "mbPyc_kpPup5",
        "outputId": "04594a04-ac55-48ab-a307-39f9d7e3fd59"
      },
      "execution_count": null,
      "outputs": [
        {
          "output_type": "stream",
          "name": "stdout",
          "text": [
            "np weight : [[2.38941612]]\n",
            " torch_weight : [2.2598495]\n",
            "np bias : [-1.19396489]#n torch_weight: -1.1233936548233032\n",
            "np weight : [ 0.84489085  0.1156853  -0.27019687  0.29078838 -0.0107715  -0.02805796\n",
            " -0.8753289  -0.84959869]\n",
            " torch_weight : [ 0.8756375   0.12564608 -0.3166045   0.3241511  -0.00753823 -0.02915483\n",
            " -0.77161306 -0.74897003]\n",
            "np bias : 2.0682462451550454#n torch_weight: 2.0682451725006104\n"
          ]
        }
      ]
    },
    {
      "cell_type": "markdown",
      "source": [
        "#### 04 모델 테스트하기"
      ],
      "metadata": {
        "id": "5Jzn9XIiQlyC"
      }
    },
    {
      "cell_type": "code",
      "source": [
        "def test_model(data, label, model):\n",
        "  result = model(data)\n",
        "\n",
        "  mae = mean_absolute_error(label, result) # label은 정답지, result는 예측된 값\n",
        "  mse = mean_squared_error(label, result) # label은 정답지, result는 예측된 값\n",
        "\n",
        "  print('np model MAE: {}, RMSE: {}'.format(mae, np.sqrt(mse)))\n",
        "\n",
        "def test_torch_model(data, label, model, device):\n",
        "  model.eval()\n",
        "\n",
        "  data, label = torch.tensor(data, dtype=torch.float32).to(device), torch.tensor(label, dtype=torch.float32).to(device)\n",
        "\n",
        "  with torch.no_grad():\n",
        "    result = model(data)\n",
        "\n",
        "    mae = mean_absolute_error(label.cpu().detach().numpy(), result.cpu().detach().numpy())\n",
        "    mse = mean_squared_error(label.cpu().detach().numpy(), result.cpu().detach().numpy())\n",
        "\n",
        "    print('torch model MAE: {}, RMSE: {}'.format(mae, np.sqrt(mse)))\n",
        "\n",
        "test_model(simple_concat_test_data, simple_test_label, simple_np_regressor)\n",
        "test_torch_model(simple_concat_test_data, simple_test_label, simple_torch_regressor, device)\n",
        "\n",
        "test_model(multiple_concat_test_data, multiple_test_label, multiple_np_regressor)\n",
        "test_torch_model(multiple_concat_test_data, multiple_test_label, multiple_torch_regressor, device)"
      ],
      "metadata": {
        "colab": {
          "base_uri": "https://localhost:8080/"
        },
        "id": "YFs8Xit5QkIP",
        "outputId": "469a4f81-7bbd-4ac9-9748-765fecea64b7"
      },
      "execution_count": null,
      "outputs": [
        {
          "output_type": "stream",
          "name": "stdout",
          "text": [
            "np model MAE: 0.07834347321726536, RMSE: 0.08669087913613559\n",
            "torch model MAE: 0.09466223418712616, RMSE: 0.10387584252107612\n",
            "np model MAE: 0.5361818140641845, RMSE: 0.7369864089681191\n",
            "torch model MAE: 0.535868227481842, RMSE: 0.7396408560147488\n"
          ]
        }
      ]
    }
  ]
}