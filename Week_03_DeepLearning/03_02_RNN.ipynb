{
  "nbformat": 4,
  "nbformat_minor": 0,
  "metadata": {
    "colab": {
      "provenance": [],
      "gpuType": "T4"
    },
    "kernelspec": {
      "name": "python3",
      "display_name": "Python 3"
    },
    "language_info": {
      "name": "python"
    },
    "accelerator": "GPU"
  },
  "cells": [
    {
      "cell_type": "markdown",
      "source": [
        "## RNN"
      ],
      "metadata": {
        "id": "WGjjygWqKKOK"
      }
    },
    {
      "cell_type": "markdown",
      "source": [
        "### 01 라이브러리, 하이퍼파라미터"
      ],
      "metadata": {
        "id": "1K4msBkMKTRO"
      }
    },
    {
      "cell_type": "code",
      "source": [
        "import torch\n",
        "import torch.nn as nn\n",
        "from torch.utils.data import DataLoader, Dataset\n",
        "\n",
        "from torchvision import transforms\n",
        "from torchvision.datasets import FashionMNIST\n",
        "\n",
        "from sklearn.metrics import accuracy_score, precision_score, recall_score, f1_score\n",
        "\n",
        "device = torch.device(\"cuda\" if torch.cuda.is_available() else \"cpu\")\n",
        "\n",
        "classification_data_path = \"./sample_data/\"\n",
        "\n",
        "test_data_ratio = 0.3\n",
        "\n",
        "random_state = 0\n",
        "\n",
        "sequence_length = 28\n",
        "\n",
        "classifier_input_size = 28\n",
        "classifier_hidden_size = 128\n",
        "classifier_output_size = 10\n",
        "\n",
        "num_layer = 4\n",
        "\n",
        "learning_rate = 1e-4 # 5e-3\n",
        "epochs = 50\n",
        "batch_size = 32\n",
        "\n",
        "classification_criterion = nn.CrossEntropyLoss()"
      ],
      "metadata": {
        "id": "mnxlw2cVKKyi"
      },
      "execution_count": 3,
      "outputs": []
    },
    {
      "cell_type": "markdown",
      "source": [
        "### 02 Classification, Data Loader"
      ],
      "metadata": {
        "id": "OgJD52jcKmbS"
      }
    },
    {
      "cell_type": "code",
      "source": [
        "class ClassificationDataLoader:\n",
        "    def __init__(self, data_path, batch_size):\n",
        "      self.data_path = data_path\n",
        "      self.batch_size = batch_size\n",
        "      self.transform = transforms.ToTensor()\n",
        "\n",
        "    def __call__(self, flag):\n",
        "        if flag == \"train\":\n",
        "            dataset = FashionMNIST(\n",
        "                self.data_path, train=True, download=True, transform=self.transform\n",
        "            )\n",
        "        else:\n",
        "            dataset = FashionMNIST(\n",
        "                self.data_path, train=False, download=True, transform=self.transform\n",
        "            )\n",
        "\n",
        "        data_loader = DataLoader(\n",
        "            dataset,\n",
        "            batch_size=self.batch_size,\n",
        "            shuffle=True,\n",
        "            drop_last=True,\n",
        "            num_workers=0,\n",
        "        )\n",
        "\n",
        "        return data_loader\n",
        "\n",
        "\n",
        "classification_loader = ClassificationDataLoader(classification_data_path, batch_size)\n",
        "classification_train_loader = classification_loader(\"train\")\n",
        "classification_test_loader = classification_loader(\"test\")"
      ],
      "metadata": {
        "colab": {
          "base_uri": "https://localhost:8080/"
        },
        "id": "yNfsKursKfuN",
        "outputId": "131de8b7-16ad-4d1f-f1b2-46affd96bb85"
      },
      "execution_count": 5,
      "outputs": [
        {
          "output_type": "stream",
          "name": "stderr",
          "text": [
            "100%|██████████| 26.4M/26.4M [00:02<00:00, 11.2MB/s]\n",
            "100%|██████████| 29.5k/29.5k [00:00<00:00, 201kB/s]\n",
            "100%|██████████| 4.42M/4.42M [00:01<00:00, 3.79MB/s]\n",
            "100%|██████████| 5.15k/5.15k [00:00<00:00, 9.33MB/s]\n"
          ]
        }
      ]
    },
    {
      "cell_type": "markdown",
      "source": [
        "### 03 RNN 정의하기"
      ],
      "metadata": {
        "id": "R3PKITTIOjBJ"
      }
    },
    {
      "cell_type": "code",
      "source": [
        "class RecurrentNeuralNetwork(nn.Module): # PyTorch의 모델 구조 정의를 위해 nn.Module을 상속\n",
        "    def __init__(\n",
        "        # input_size         RNN에 입력되는 벡터의 길이 (ex: 28)\n",
        "        # sequence_length    시퀀스 길이, 즉 time step 수 (ex: 28)\n",
        "        # hidden_size        RNN의 hidden state 벡터 차원\n",
        "        # num_layer          RNN 층 수\n",
        "        # output_size        클래스 개수 (ex: 10 for FashionMNIST)\n",
        "        self, input_size, sequence_length, hidden_size, num_layer, output_size\n",
        "    ):\n",
        "        super(RecurrentNeuralNetwork, self).__init__() # 부모 클래스(nn.Module)의 초기화 메서드를 호출\n",
        "        self.input_size = input_size\n",
        "        self.sequence_length = sequence_length\n",
        "        self.hidden_size = hidden_size\n",
        "        self.num_layer = num_layer\n",
        "        self.output_size = output_size\n",
        "\n",
        "        # PyTorch 내장 RNN 레이어 생성\n",
        "        self.rnn = nn.RNN(\n",
        "            self.input_size, self.hidden_size, self.num_layer, batch_first = True\n",
        "        )\n",
        "        self.output_layer = nn.Linear(self.hidden_size, self.output_size)\n",
        "\n",
        "    def forward(self, data):\n",
        "      data = self.prepare_input(data) # 이미지를 RNN에 넣기 적합한 시퀀스 형태로 변환\n",
        "      extracted_feature, _ = self.rnn(data) #  두 번째 출력은 hidden_state인데 여기선 사용하지 않음 (_로 무시)\n",
        "      extracted_feature = extracted_feature[:, -1, :] # 마지막 시점의 출력만 골라서 다음 층으로 보냄\n",
        "      result = self.output_layer(extracted_feature)\n",
        "      return result\n",
        "\n",
        "    def prepare_input(self, data):\n",
        "      data = data.view(-1, self.sequence_length, self.input_size)\n",
        "      return data"
      ],
      "metadata": {
        "id": "YU2GB0IuLelW"
      },
      "execution_count": 6,
      "outputs": []
    },
    {
      "cell_type": "code",
      "source": [
        "classifier = RecurrentNeuralNetwork(\n",
        "    classifier_input_size,\n",
        "    sequence_length,\n",
        "    classifier_hidden_size,\n",
        "    num_layer,\n",
        "    classifier_output_size,\n",
        ").to(device)\n",
        "classifier_optimizer = torch.optim.Adam(classifier.parameters(), lr=learning_rate)"
      ],
      "metadata": {
        "id": "K5vbvzQ6UZvV"
      },
      "execution_count": 7,
      "outputs": []
    },
    {
      "cell_type": "code",
      "source": [
        "classifier"
      ],
      "metadata": {
        "colab": {
          "base_uri": "https://localhost:8080/"
        },
        "id": "-MJfx9prUdF4",
        "outputId": "f15e16a1-dbff-43a1-ae8f-22bf3c96ae92"
      },
      "execution_count": 8,
      "outputs": [
        {
          "output_type": "execute_result",
          "data": {
            "text/plain": [
              "RecurrentNeuralNetwork(\n",
              "  (rnn): RNN(28, 128, num_layers=4, batch_first=True)\n",
              "  (output_layer): Linear(in_features=128, out_features=10, bias=True)\n",
              ")"
            ]
          },
          "metadata": {},
          "execution_count": 8
        }
      ]
    },
    {
      "cell_type": "markdown",
      "source": [
        "### 04 모델 학습"
      ],
      "metadata": {
        "id": "74Pj2puaOk3S"
      }
    },
    {
      "cell_type": "code",
      "source": [
        "class Trainer:\n",
        "    def __init__(self, model, data_loader, optimizer, criterion, epochs, device):\n",
        "        self.model = model\n",
        "        self.data_loader = data_loader\n",
        "        self.optimizer = optimizer\n",
        "        self.criterion = criterion\n",
        "        self.epochs = epochs\n",
        "        self.device = device\n",
        "\n",
        "    def train(self):\n",
        "      # PyTorch의 internal mode 설정: 모델을 train mode로 바꿈\n",
        "      # (예: Dropout, BatchNorm 등은 train/test 모드에 따라 다르게 동작)\n",
        "        self.model.train()\n",
        "\n",
        "        for epoch in range(self.epochs):\n",
        "            print(f\"Epoch {epoch + 1} / {self.epochs}\")\n",
        "            # 학습용 DataLoader에서 (입력, 정답) 배치를 하나씩 가져옴\n",
        "            for data, label in self.data_loader:\n",
        "                # 이전 iteration의 gradient를 초기화\n",
        "                # PyTorch는 gradient를 누적하는 방식이라 매번 비워줘야 함\n",
        "                self.optimizer.zero_grad()\n",
        "                # 입력 데이터와 정답 레이블을 GPU 또는 CPU로 이동\n",
        "                data, label = data.to(self.device), label.to(self.device)\n",
        "                result = self.model(data)\n",
        "                loss = self.criterion(result, label)\n",
        "                # 역전파(Backpropagation): 각 파라미터에 대한 gradient 계산\n",
        "                loss.backward()\n",
        "                self.optimizer.step()\n",
        "\n",
        "\n",
        "classifier_trainer = Trainer(\n",
        "    classifier,\n",
        "    classification_train_loader,\n",
        "    classifier_optimizer,\n",
        "    classification_criterion,\n",
        "    epochs,\n",
        "    device,\n",
        ")\n",
        "classifier_trainer.train()\n"
      ],
      "metadata": {
        "colab": {
          "base_uri": "https://localhost:8080/"
        },
        "id": "06k49HWqOsM1",
        "outputId": "26dc176b-e9ff-4c55-b373-5a019e736a0b"
      },
      "execution_count": 9,
      "outputs": [
        {
          "output_type": "stream",
          "name": "stdout",
          "text": [
            "Epoch 1 / 50\n",
            "Epoch 2 / 50\n",
            "Epoch 3 / 50\n",
            "Epoch 4 / 50\n",
            "Epoch 5 / 50\n",
            "Epoch 6 / 50\n",
            "Epoch 7 / 50\n",
            "Epoch 8 / 50\n",
            "Epoch 9 / 50\n",
            "Epoch 10 / 50\n",
            "Epoch 11 / 50\n",
            "Epoch 12 / 50\n",
            "Epoch 13 / 50\n",
            "Epoch 14 / 50\n",
            "Epoch 15 / 50\n",
            "Epoch 16 / 50\n",
            "Epoch 17 / 50\n",
            "Epoch 18 / 50\n",
            "Epoch 19 / 50\n",
            "Epoch 20 / 50\n",
            "Epoch 21 / 50\n",
            "Epoch 22 / 50\n",
            "Epoch 23 / 50\n",
            "Epoch 24 / 50\n",
            "Epoch 25 / 50\n",
            "Epoch 26 / 50\n",
            "Epoch 27 / 50\n",
            "Epoch 28 / 50\n",
            "Epoch 29 / 50\n",
            "Epoch 30 / 50\n",
            "Epoch 31 / 50\n",
            "Epoch 32 / 50\n",
            "Epoch 33 / 50\n",
            "Epoch 34 / 50\n",
            "Epoch 35 / 50\n",
            "Epoch 36 / 50\n",
            "Epoch 37 / 50\n",
            "Epoch 38 / 50\n",
            "Epoch 39 / 50\n",
            "Epoch 40 / 50\n",
            "Epoch 41 / 50\n",
            "Epoch 42 / 50\n",
            "Epoch 43 / 50\n",
            "Epoch 44 / 50\n",
            "Epoch 45 / 50\n",
            "Epoch 46 / 50\n",
            "Epoch 47 / 50\n",
            "Epoch 48 / 50\n",
            "Epoch 49 / 50\n",
            "Epoch 50 / 50\n"
          ]
        }
      ]
    },
    {
      "cell_type": "markdown",
      "source": [
        "### 05 모델 테스트"
      ],
      "metadata": {
        "id": "NbJ4YKz4OuwE"
      }
    },
    {
      "cell_type": "code",
      "source": [
        "class Tester:\n",
        "    def __init__(self, model, data_loader, device):\n",
        "        self.model = model\n",
        "        self.data_loader = data_loader\n",
        "        self.device = device\n",
        "\n",
        "    def classifier_test(self):\n",
        "        self.model.eval()\n",
        "\n",
        "        pred_list, label_list = [], []\n",
        "\n",
        "        # gradient를 계산하지 않도록 설정\n",
        "        # 테스트는 학습이 아니므로 gradient 필요 없음(메모리 절약, 속도 향상)\n",
        "        with torch.no_grad():\n",
        "            for data, label in self.data_loader:\n",
        "                data, label = data.to(self.device), label.to(self.device)\n",
        "                result = self.model(data)\n",
        "                # torch.max(result, 1): 클래스 확률 중 가장 높은 것 선택\n",
        "                _, pred = torch.max(result, 1)\n",
        "                pred_list.extend(pred.cpu().numpy())\n",
        "                label_list.extend(label.cpu().numpy())\n",
        "\n",
        "            print(\"Accuracy:\", accuracy_score(label_list, pred_list))\n",
        "\n",
        ""
      ],
      "metadata": {
        "id": "MOjZAkNKOv11"
      },
      "execution_count": 10,
      "outputs": []
    },
    {
      "cell_type": "code",
      "source": [
        "classifier_tester = Tester(classifier, classification_test_loader, device)\n",
        "classifier_tester.classifier_test()"
      ],
      "metadata": {
        "colab": {
          "base_uri": "https://localhost:8080/"
        },
        "id": "Z01TL5waVch3",
        "outputId": "51f559ef-a9be-4204-876e-852d0f34fcc0"
      },
      "execution_count": 11,
      "outputs": [
        {
          "output_type": "stream",
          "name": "stdout",
          "text": [
            "Accuracy: 0.8798076923076923\n"
          ]
        }
      ]
    }
  ]
}