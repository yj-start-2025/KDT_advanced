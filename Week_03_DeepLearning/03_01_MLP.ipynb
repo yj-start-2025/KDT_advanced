{
  "nbformat": 4,
  "nbformat_minor": 0,
  "metadata": {
    "colab": {
      "provenance": [],
      "gpuType": "T4"
    },
    "kernelspec": {
      "name": "python3",
      "display_name": "Python 3"
    },
    "language_info": {
      "name": "python"
    },
    "accelerator": "GPU"
  },
  "cells": [
    {
      "cell_type": "markdown",
      "source": [
        "## 딥러닝(MLP, Multilayer-perceptron)\n",
        "- Fully connected layer 혹은 Deep Neural network 로도 불림\n",
        "- 오늘(7/28, 월)은 딥러닝에 대한 개괄을 다루었고 특히 MLP에 대해 자세히 다룸"
      ],
      "metadata": {
        "id": "5btB9PED3BtL"
      }
    },
    {
      "cell_type": "markdown",
      "source": [
        "### 01 라이브러리, hyper-parameter"
      ],
      "metadata": {
        "id": "MIIb0eED3dYZ"
      }
    },
    {
      "cell_type": "code",
      "source": [
        "import torch\n",
        "import torch.nn as nn # neural net의 약자인듯?\n",
        "from torch.utils.data import DataLoader, Dataset, random_split # Dataloader, Dataset, random_split 불러오기\n",
        "\n",
        "import numpy as np\n",
        "import pandas as pd\n",
        "\n",
        "from torchvision import transforms\n",
        "from torchvision.datasets import FashionMNIST # FashionMNIST 데이터\n",
        "\n",
        "from sklearn.datasets import load_diabetes\n",
        "from sklearn.metrics import (\n",
        "    mean_squared_error,\n",
        "    mean_absolute_error,\n",
        "    accuracy_score,\n",
        "    precision_score,\n",
        "    recall_score,\n",
        "    f1_score\n",
        ")\n",
        "\n",
        "device = torch.device(\"cuda\" if torch.cuda.is_available() else \"cpu\")\n",
        "\n",
        "classificification_data_path = \"./sample_data/\"\n",
        "\n",
        "regression_data_info = load_diabetes()\n",
        "regression_feature_names = regression_data_info.feature_names\n",
        "\n",
        "test_data_ratio = 0.3\n",
        "random_state = 0\n",
        "\n",
        "classifier_input_size = 28 * 28\n",
        "classifier_hidden_size1 = 512\n",
        "classifier_hidden_size2 = 128\n",
        "classifier_hidden_size3 = 32\n",
        "classifier_output_size = 10\n",
        "\n",
        "regressor_input_size = len(regression_feature_names)\n",
        "regressor_hidden_size1 = 16\n",
        "regressor_hidden_size2 = 32\n",
        "regressor_hidden_size3 = 16\n",
        "regressor_output_size = 1\n",
        "\n",
        "learning_rate = 5e-3\n",
        "epochs = 50\n",
        "batch_size = 32\n",
        "\n",
        "regression_criterion = nn.MSELoss()\n",
        "classification_criterion = nn.CrossEntropyLoss()"
      ],
      "metadata": {
        "id": "tWV06PDy3Lwc"
      },
      "execution_count": 2,
      "outputs": []
    },
    {
      "cell_type": "markdown",
      "source": [
        "### 02 Data load하는 class 정의"
      ],
      "metadata": {
        "id": "2vn4m5bF3fqN"
      }
    },
    {
      "cell_type": "code",
      "source": [
        "class ClassificationDataLoader:\n",
        "    def __init__(self, data_path, batch_size):\n",
        "        self.data_path = data_path\n",
        "        self.batch_size = batch_size\n",
        "        self.transform = transforms.ToTensor()\n",
        "\n",
        "    def __call__(self, flag):\n",
        "        if flag == \"train\":\n",
        "            dataset = FashionMNIST(\n",
        "                self.data_path, train=True, download=True, transform=self.transform\n",
        "            )\n",
        "        else:\n",
        "            dataset = FashionMNIST(\n",
        "                self.data_path, train=False, download=True, transform=self.transform\n",
        "            )\n",
        "\n",
        "        data_loader = DataLoader(\n",
        "            dataset,\n",
        "            batch_size=self.batch_size,\n",
        "            shuffle=True,\n",
        "            drop_last=True,\n",
        "            num_workers=0,\n",
        "        )\n",
        "\n",
        "        return data_loader\n",
        "\n",
        "\n",
        "class RegressionDataset(Dataset):\n",
        "    def __init__(self, data_info, feature_names, random_state):\n",
        "        self.data_info = data_info\n",
        "        self.feature_names = feature_names\n",
        "        self.random_state = random_state\n",
        "\n",
        "        self.data_infos = self.get_data_infos()\n",
        "        self.data, self.label = self.get_dataset()\n",
        "\n",
        "    def get_data_infos(self):\n",
        "        df = pd.DataFrame(self.data_info.data, columns=self.feature_names)\n",
        "        df[\"label\"] = self.data_info.target\n",
        "        return df\n",
        "\n",
        "    def get_dataset(self):\n",
        "        data, label = self.data_infos.drop(columns=[\"label\"]), self.data_infos[\"label\"]\n",
        "        return data.to_numpy().astype(np.float32), label.to_numpy().astype(np.float32)\n",
        "\n",
        "    def __len__(self):\n",
        "        return len(self.data)\n",
        "\n",
        "    def __getitem__(self, idx):\n",
        "        return self.data[idx], self.label[idx]\n",
        "\n",
        "\n",
        "classification_loader = ClassificationDataLoader(\n",
        "    classificification_data_path, batch_size\n",
        ")\n",
        "classification_train_loader = classification_loader(\"train\")\n",
        "classification_test_loader = classification_loader(\"test\")\n",
        "\n",
        "regression_dataset = RegressionDataset(\n",
        "    regression_data_info, regression_feature_names, random_state\n",
        ")\n",
        "num_regression_train_data = int(len(regression_dataset) * (1 - test_data_ratio))\n",
        "num_regression_test_data = len(regression_dataset) - num_regression_train_data\n",
        "\n",
        "regression_train_dataset, regression_test_dataset = random_split(\n",
        "    regression_dataset, [num_regression_train_data, num_regression_test_data]\n",
        ")\n",
        "\n",
        "regression_train_loader = DataLoader(\n",
        "    regression_train_dataset, batch_size=batch_size, drop_last=False\n",
        ")\n",
        "regression_test_loader = DataLoader(\n",
        "    regression_test_dataset, batch_size=batch_size, drop_last=False\n",
        ")"
      ],
      "metadata": {
        "colab": {
          "base_uri": "https://localhost:8080/"
        },
        "id": "2yJZiN5O3mW6",
        "outputId": "2b137319-ddb6-42d2-a1fe-246296511fa4"
      },
      "execution_count": 3,
      "outputs": [
        {
          "output_type": "stream",
          "name": "stderr",
          "text": [
            "100%|██████████| 26.4M/26.4M [00:02<00:00, 10.9MB/s]\n",
            "100%|██████████| 29.5k/29.5k [00:00<00:00, 172kB/s]\n",
            "100%|██████████| 4.42M/4.42M [00:01<00:00, 3.21MB/s]\n",
            "100%|██████████| 5.15k/5.15k [00:00<00:00, 10.4MB/s]\n"
          ]
        }
      ]
    },
    {
      "cell_type": "markdown",
      "source": [
        "### 03 DeepLearning 설계"
      ],
      "metadata": {
        "id": "xW_PEB1F3muT"
      }
    },
    {
      "cell_type": "code",
      "source": [
        "class DeepNeuralNetwork(nn.Module):\n",
        "    def __init__(\n",
        "        self, input_size, hidden_size1, hidden_size2, hidden_size3, output_size\n",
        "    ):\n",
        "        super(DeepNeuralNetwork, self).__init__()\n",
        "        self.feature_extractor = nn.Sequential(\n",
        "            nn.Linear(input_size, hidden_size1),\n",
        "            nn.ReLU(),\n",
        "            nn.Linear(hidden_size1, hidden_size2),\n",
        "            nn.ReLU(),\n",
        "            nn.Linear(hidden_size2, hidden_size3),\n",
        "            nn.ReLU(),\n",
        "        )\n",
        "        self.output_layer = nn.Linear(hidden_size3, output_size)\n",
        "\n",
        "    def forward(self, data):\n",
        "        data = self.prepare_input(data)\n",
        "        feature = self.feature_extractor(data)\n",
        "        result = self.output_layer(feature)\n",
        "        return result\n",
        "\n",
        "    def prepare_input(self, data):\n",
        "        flattened_data = data.view(data.size(0), -1)\n",
        "        return flattened_data\n",
        "\n",
        "\n",
        "classifier = DeepNeuralNetwork(\n",
        "    classifier_input_size,\n",
        "    classifier_hidden_size1,\n",
        "    classifier_hidden_size2,\n",
        "    classifier_hidden_size3,\n",
        "    classifier_output_size,\n",
        ").to(device)\n",
        "classifier_optimizer = torch.optim.SGD(\n",
        "    classifier.parameters(), lr=learning_rate\n",
        ")\n",
        "\n",
        "regressor = DeepNeuralNetwork(\n",
        "    regressor_input_size,\n",
        "    regressor_hidden_size1,\n",
        "    regressor_hidden_size2,\n",
        "    regressor_hidden_size3,\n",
        "    regressor_output_size,\n",
        ").to(device)\n",
        "regressor_optimizer = torch.optim.SGD(\n",
        "    regressor.parameters(), lr=learning_rate\n",
        ")"
      ],
      "metadata": {
        "id": "qQO5Rdt83oLh"
      },
      "execution_count": 4,
      "outputs": []
    },
    {
      "cell_type": "markdown",
      "source": [
        "### 04 DeepLearning 모델 학습"
      ],
      "metadata": {
        "id": "-PFzKqDe3pBr"
      }
    },
    {
      "cell_type": "code",
      "source": [
        "class Trainer:\n",
        "    def __init__(self, model, data_loader, optimizer, criterion, epochs, device):\n",
        "        self.model = model\n",
        "        self.data_loader = data_loader\n",
        "        self.optimizer = optimizer\n",
        "        self.criterion = criterion\n",
        "        self.epochs = epochs\n",
        "        self.device = device\n",
        "\n",
        "    def train(self):\n",
        "        self.model.train()\n",
        "\n",
        "        for epoch in range(self.epochs):\n",
        "            print(f\"Epoch {epoch + 1} / {self.epochs}\")\n",
        "            for data, label in self.data_loader:\n",
        "                self.optimizer.zero_grad()\n",
        "                data, label = data.to(self.device), label.to(self.device)\n",
        "                result = self.model(data)\n",
        "                loss = self.criterion(result, label)\n",
        "\n",
        "                loss.backward()\n",
        "                self.optimizer.step()\n",
        "\n",
        "\n",
        "classifier_trainer = Trainer(\n",
        "    classifier,\n",
        "    classification_train_loader,\n",
        "    classifier_optimizer,\n",
        "    classification_criterion,\n",
        "    epochs,\n",
        "    device,\n",
        ")\n",
        "classifier_trainer.train()\n",
        "\n",
        "regressor_trainer = Trainer(\n",
        "    regressor,\n",
        "    regression_train_loader,\n",
        "    regressor_optimizer,\n",
        "    regression_criterion,\n",
        "    epochs,\n",
        "    device,\n",
        ")\n",
        "regressor_trainer.train()"
      ],
      "metadata": {
        "colab": {
          "base_uri": "https://localhost:8080/"
        },
        "id": "cZhf4Dhg3tuL",
        "outputId": "b5addfa7-99d0-471b-ace0-515c8a261d3a"
      },
      "execution_count": 5,
      "outputs": [
        {
          "output_type": "stream",
          "name": "stdout",
          "text": [
            "Epoch 1 / 50\n",
            "Epoch 2 / 50\n",
            "Epoch 3 / 50\n",
            "Epoch 4 / 50\n",
            "Epoch 5 / 50\n",
            "Epoch 6 / 50\n",
            "Epoch 7 / 50\n",
            "Epoch 8 / 50\n",
            "Epoch 9 / 50\n",
            "Epoch 10 / 50\n",
            "Epoch 11 / 50\n",
            "Epoch 12 / 50\n",
            "Epoch 13 / 50\n",
            "Epoch 14 / 50\n",
            "Epoch 15 / 50\n",
            "Epoch 16 / 50\n",
            "Epoch 17 / 50\n",
            "Epoch 18 / 50\n",
            "Epoch 19 / 50\n",
            "Epoch 20 / 50\n",
            "Epoch 21 / 50\n",
            "Epoch 22 / 50\n",
            "Epoch 23 / 50\n",
            "Epoch 24 / 50\n",
            "Epoch 25 / 50\n",
            "Epoch 26 / 50\n",
            "Epoch 27 / 50\n",
            "Epoch 28 / 50\n",
            "Epoch 29 / 50\n",
            "Epoch 30 / 50\n",
            "Epoch 31 / 50\n",
            "Epoch 32 / 50\n",
            "Epoch 33 / 50\n",
            "Epoch 34 / 50\n",
            "Epoch 35 / 50\n",
            "Epoch 36 / 50\n",
            "Epoch 37 / 50\n",
            "Epoch 38 / 50\n",
            "Epoch 39 / 50\n",
            "Epoch 40 / 50\n",
            "Epoch 41 / 50\n",
            "Epoch 42 / 50\n",
            "Epoch 43 / 50\n",
            "Epoch 44 / 50\n",
            "Epoch 45 / 50\n",
            "Epoch 46 / 50\n",
            "Epoch 47 / 50\n",
            "Epoch 48 / 50\n",
            "Epoch 49 / 50\n",
            "Epoch 50 / 50\n",
            "Epoch 1 / 50\n"
          ]
        },
        {
          "output_type": "stream",
          "name": "stderr",
          "text": [
            "/usr/local/lib/python3.11/dist-packages/torch/nn/modules/loss.py:610: UserWarning: Using a target size (torch.Size([32])) that is different to the input size (torch.Size([32, 1])). This will likely lead to incorrect results due to broadcasting. Please ensure they have the same size.\n",
            "  return F.mse_loss(input, target, reduction=self.reduction)\n",
            "/usr/local/lib/python3.11/dist-packages/torch/nn/modules/loss.py:610: UserWarning: Using a target size (torch.Size([21])) that is different to the input size (torch.Size([21, 1])). This will likely lead to incorrect results due to broadcasting. Please ensure they have the same size.\n",
            "  return F.mse_loss(input, target, reduction=self.reduction)\n"
          ]
        },
        {
          "output_type": "stream",
          "name": "stdout",
          "text": [
            "Epoch 2 / 50\n",
            "Epoch 3 / 50\n",
            "Epoch 4 / 50\n",
            "Epoch 5 / 50\n",
            "Epoch 6 / 50\n",
            "Epoch 7 / 50\n",
            "Epoch 8 / 50\n",
            "Epoch 9 / 50\n",
            "Epoch 10 / 50\n",
            "Epoch 11 / 50\n",
            "Epoch 12 / 50\n",
            "Epoch 13 / 50\n",
            "Epoch 14 / 50\n",
            "Epoch 15 / 50\n",
            "Epoch 16 / 50\n",
            "Epoch 17 / 50\n",
            "Epoch 18 / 50\n",
            "Epoch 19 / 50\n",
            "Epoch 20 / 50\n",
            "Epoch 21 / 50\n",
            "Epoch 22 / 50\n",
            "Epoch 23 / 50\n",
            "Epoch 24 / 50\n",
            "Epoch 25 / 50\n",
            "Epoch 26 / 50\n",
            "Epoch 27 / 50\n",
            "Epoch 28 / 50\n",
            "Epoch 29 / 50\n",
            "Epoch 30 / 50\n",
            "Epoch 31 / 50\n",
            "Epoch 32 / 50\n",
            "Epoch 33 / 50\n",
            "Epoch 34 / 50\n",
            "Epoch 35 / 50\n",
            "Epoch 36 / 50\n",
            "Epoch 37 / 50\n",
            "Epoch 38 / 50\n",
            "Epoch 39 / 50\n",
            "Epoch 40 / 50\n",
            "Epoch 41 / 50\n",
            "Epoch 42 / 50\n",
            "Epoch 43 / 50\n",
            "Epoch 44 / 50\n",
            "Epoch 45 / 50\n",
            "Epoch 46 / 50\n",
            "Epoch 47 / 50\n",
            "Epoch 48 / 50\n",
            "Epoch 49 / 50\n",
            "Epoch 50 / 50\n"
          ]
        }
      ]
    },
    {
      "cell_type": "markdown",
      "source": [
        "### 05 시각화\n",
        "- 학습 하면서 train_loss, validation_loss, train_accuracy, validation_accuracy가 변하는 경향을 시각화"
      ],
      "metadata": {
        "id": "sl0HPQGQ8-Yx"
      }
    },
    {
      "cell_type": "code",
      "source": [
        "import matplotlib.pyplot as plt\n",
        "\n",
        "classifier_train_losses = []\n",
        "classifier_train_accuracies = []\n",
        "\n",
        "for epoch in range(epochs):\n",
        "    classifier.train()\n",
        "    running_loss, correct, total = 0.0, 0, 0\n",
        "\n",
        "    for data, label in classification_train_loader:\n",
        "        data, label = data.to(device), label.to(device)\n",
        "\n",
        "        classifier_optimizer.zero_grad()\n",
        "        output = classifier(data)\n",
        "        loss = classification_criterion(output, label)\n",
        "        loss.backward()\n",
        "        classifier_optimizer.step()\n",
        "\n",
        "        running_loss += loss.item()\n",
        "\n",
        "        pred = output.argmax(dim=1)\n",
        "        correct += (pred == label).sum().item()\n",
        "        total += label.size(0)\n",
        "\n",
        "    avg_loss = running_loss / len(classification_train_loader)\n",
        "    acc = correct / total\n",
        "    classifier_train_losses.append(avg_loss)\n",
        "    classifier_train_accuracies.append(acc)\n",
        "\n",
        "    print(f\"[{epoch+1}/{epochs}] Loss: {avg_loss:.4f}, Accuracy: {acc:.4f}\")"
      ],
      "metadata": {
        "colab": {
          "base_uri": "https://localhost:8080/"
        },
        "id": "tOiLw30R-VcW",
        "outputId": "53459b43-3082-435d-9aca-fd1252b9177d"
      },
      "execution_count": 10,
      "outputs": [
        {
          "output_type": "stream",
          "name": "stdout",
          "text": [
            "[1/50] Loss: 0.2005, Accuracy: 0.9283\n",
            "[2/50] Loss: 0.1971, Accuracy: 0.9285\n",
            "[3/50] Loss: 0.1937, Accuracy: 0.9303\n",
            "[4/50] Loss: 0.1912, Accuracy: 0.9313\n",
            "[5/50] Loss: 0.1879, Accuracy: 0.9323\n",
            "[6/50] Loss: 0.1849, Accuracy: 0.9341\n",
            "[7/50] Loss: 0.1812, Accuracy: 0.9347\n",
            "[8/50] Loss: 0.1794, Accuracy: 0.9349\n",
            "[9/50] Loss: 0.1766, Accuracy: 0.9367\n",
            "[10/50] Loss: 0.1732, Accuracy: 0.9384\n",
            "[11/50] Loss: 0.1705, Accuracy: 0.9391\n",
            "[12/50] Loss: 0.1674, Accuracy: 0.9395\n",
            "[13/50] Loss: 0.1656, Accuracy: 0.9408\n",
            "[14/50] Loss: 0.1634, Accuracy: 0.9418\n",
            "[15/50] Loss: 0.1612, Accuracy: 0.9417\n",
            "[16/50] Loss: 0.1586, Accuracy: 0.9429\n",
            "[17/50] Loss: 0.1558, Accuracy: 0.9439\n",
            "[18/50] Loss: 0.1526, Accuracy: 0.9458\n",
            "[19/50] Loss: 0.1506, Accuracy: 0.9454\n",
            "[20/50] Loss: 0.1471, Accuracy: 0.9466\n",
            "[21/50] Loss: 0.1455, Accuracy: 0.9476\n",
            "[22/50] Loss: 0.1435, Accuracy: 0.9489\n",
            "[23/50] Loss: 0.1419, Accuracy: 0.9490\n",
            "[24/50] Loss: 0.1407, Accuracy: 0.9497\n",
            "[25/50] Loss: 0.1362, Accuracy: 0.9515\n",
            "[26/50] Loss: 0.1358, Accuracy: 0.9519\n",
            "[27/50] Loss: 0.1332, Accuracy: 0.9528\n",
            "[28/50] Loss: 0.1316, Accuracy: 0.9524\n",
            "[29/50] Loss: 0.1306, Accuracy: 0.9536\n",
            "[30/50] Loss: 0.1268, Accuracy: 0.9547\n",
            "[31/50] Loss: 0.1242, Accuracy: 0.9552\n",
            "[32/50] Loss: 0.1236, Accuracy: 0.9562\n",
            "[33/50] Loss: 0.1209, Accuracy: 0.9571\n",
            "[34/50] Loss: 0.1179, Accuracy: 0.9585\n",
            "[35/50] Loss: 0.1171, Accuracy: 0.9583\n",
            "[36/50] Loss: 0.1155, Accuracy: 0.9582\n",
            "[37/50] Loss: 0.1134, Accuracy: 0.9598\n",
            "[38/50] Loss: 0.1115, Accuracy: 0.9598\n",
            "[39/50] Loss: 0.1102, Accuracy: 0.9612\n",
            "[40/50] Loss: 0.1057, Accuracy: 0.9622\n",
            "[41/50] Loss: 0.1047, Accuracy: 0.9624\n",
            "[42/50] Loss: 0.1049, Accuracy: 0.9628\n",
            "[43/50] Loss: 0.1026, Accuracy: 0.9628\n",
            "[44/50] Loss: 0.1022, Accuracy: 0.9635\n",
            "[45/50] Loss: 0.0990, Accuracy: 0.9654\n",
            "[46/50] Loss: 0.0967, Accuracy: 0.9651\n",
            "[47/50] Loss: 0.0963, Accuracy: 0.9654\n",
            "[48/50] Loss: 0.0934, Accuracy: 0.9667\n",
            "[49/50] Loss: 0.0931, Accuracy: 0.9665\n",
            "[50/50] Loss: 0.0918, Accuracy: 0.9669\n"
          ]
        }
      ]
    },
    {
      "cell_type": "code",
      "source": [
        "epochs_range = range(1, len(classifier_train_losses)+1)\n",
        "\n",
        "plt.plot(epochs_range, classifier_train_losses, label='train-loss')\n",
        "plt.plot(epochs_range, classifier_train_accuracies, label='train-accuracy')\n",
        "\n",
        "plt.xlabel(\"epochs\")\n",
        "plt.ylabel(\"Value\")\n",
        "plt.title(\"Train Loss / Accuracy\")\n",
        "plt.legend()\n",
        "plt.grid(True)\n",
        "plt.show()"
      ],
      "metadata": {
        "colab": {
          "base_uri": "https://localhost:8080/",
          "height": 472
        },
        "id": "DO0TwMvO-Vro",
        "outputId": "30627aef-a687-4e72-bdf1-f65c2ec54189"
      },
      "execution_count": 11,
      "outputs": [
        {
          "output_type": "display_data",
          "data": {
            "text/plain": [
              "<Figure size 640x480 with 1 Axes>"
            ],
            "image/png": "[encoded data removed]"
          },
          "metadata": {}
        }
      ]
    }
  ]
}